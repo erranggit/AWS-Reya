{
 "cells": [
  {
   "cell_type": "markdown",
   "metadata": {},
   "source": [
    "![AWS](./AWSLogo.png) "
   ]
  },
  {
   "cell_type": "markdown",
   "metadata": {},
   "source": [
    "# Background"
   ]
  },
  {
   "cell_type": "markdown",
   "metadata": {},
   "source": [
    "Amazon Web Services (AWS) is a cloud service provider that offers a range of product options, including Infrastructure as a Service (IaaS), Platform as a Service (PaaS), and Software as a Service (SaaS). AWS derives profits through various business models and services that they provide to customers. AWS serves a diverse array of customers, encompassing both Business-to-Consumer (B2C) and Business-to-Business (B2B) categories. AWS provides services that can be utilized by a variety of organizations and users, including individuals, companies, governments, non-profit institutions, startups, large enterprises, and more.\n",
    "\n",
    "They offer SaaS, which is a cloud-based software model, including database management services. They also provide IaaS for IT infrastructure, such as computing, storage, and networking resources delivered over the internet, and lastly, they offer PaaS with a platform-based cloud computing model. Each of these services has its own pricing model, signifying that every time customers use these services, AWS generates revenue. As a company grows following their utilization of AWS services, they tend to remain subscribed to AWS services, which can contribute to a sustained revenue stream for AWS."
   ]
  },
  {
   "cell_type": "markdown",
   "metadata": {},
   "source": [
    "# Problem Statement"
   ]
  },
  {
   "cell_type": "markdown",
   "metadata": {},
   "source": [
    "After examining the profits obtained from the years 2020-2023, we have identified that the issue arises due to fluctuations in profit. For profits that experience a significant decrease, we can conduct an analysis to prevent substantial declines from occurring."
   ]
  },
  {
   "cell_type": "markdown",
   "metadata": {},
   "source": [
    "# Data"
   ]
  },
  {
   "cell_type": "code",
   "execution_count": 2,
   "metadata": {},
   "outputs": [],
   "source": [
    "import pandas as pd\n",
    "import seaborn as sns\n",
    "import matplotlib.pyplot as plt\n",
    "import numpy as np"
   ]
  },
  {
   "cell_type": "code",
   "execution_count": 3,
   "metadata": {},
   "outputs": [
    {
     "data": {
      "text/html": [
       "<div>\n",
       "<style scoped>\n",
       "    .dataframe tbody tr th:only-of-type {\n",
       "        vertical-align: middle;\n",
       "    }\n",
       "\n",
       "    .dataframe tbody tr th {\n",
       "        vertical-align: top;\n",
       "    }\n",
       "\n",
       "    .dataframe thead th {\n",
       "        text-align: right;\n",
       "    }\n",
       "</style>\n",
       "<table border=\"1\" class=\"dataframe\">\n",
       "  <thead>\n",
       "    <tr style=\"text-align: right;\">\n",
       "      <th></th>\n",
       "      <th>Row ID</th>\n",
       "      <th>Order ID</th>\n",
       "      <th>Order Date</th>\n",
       "      <th>Date Key</th>\n",
       "      <th>Contact Name</th>\n",
       "      <th>Country</th>\n",
       "      <th>City</th>\n",
       "      <th>Region</th>\n",
       "      <th>Subregion</th>\n",
       "      <th>Customer</th>\n",
       "      <th>Customer ID</th>\n",
       "      <th>Industry</th>\n",
       "      <th>Segment</th>\n",
       "      <th>Product</th>\n",
       "      <th>License</th>\n",
       "      <th>Sales</th>\n",
       "      <th>Quantity</th>\n",
       "      <th>Discount</th>\n",
       "      <th>Profit</th>\n",
       "    </tr>\n",
       "  </thead>\n",
       "  <tbody>\n",
       "    <tr>\n",
       "      <th>0</th>\n",
       "      <td>1</td>\n",
       "      <td>EMEA-2022-152156</td>\n",
       "      <td>11/9/2022</td>\n",
       "      <td>20221109</td>\n",
       "      <td>Nathan Bell</td>\n",
       "      <td>Ireland</td>\n",
       "      <td>Dublin</td>\n",
       "      <td>EMEA</td>\n",
       "      <td>UKIR</td>\n",
       "      <td>Chevron</td>\n",
       "      <td>1017</td>\n",
       "      <td>Energy</td>\n",
       "      <td>SMB</td>\n",
       "      <td>Marketing Suite</td>\n",
       "      <td>16GRM07R1K</td>\n",
       "      <td>261.9600</td>\n",
       "      <td>2</td>\n",
       "      <td>0.00</td>\n",
       "      <td>41.9136</td>\n",
       "    </tr>\n",
       "    <tr>\n",
       "      <th>1</th>\n",
       "      <td>2</td>\n",
       "      <td>EMEA-2022-152156</td>\n",
       "      <td>11/9/2022</td>\n",
       "      <td>20221109</td>\n",
       "      <td>Nathan Bell</td>\n",
       "      <td>Ireland</td>\n",
       "      <td>Dublin</td>\n",
       "      <td>EMEA</td>\n",
       "      <td>UKIR</td>\n",
       "      <td>Chevron</td>\n",
       "      <td>1017</td>\n",
       "      <td>Energy</td>\n",
       "      <td>SMB</td>\n",
       "      <td>FinanceHub</td>\n",
       "      <td>QLIW57KZUV</td>\n",
       "      <td>731.9400</td>\n",
       "      <td>3</td>\n",
       "      <td>0.00</td>\n",
       "      <td>219.5820</td>\n",
       "    </tr>\n",
       "    <tr>\n",
       "      <th>2</th>\n",
       "      <td>3</td>\n",
       "      <td>AMER-2022-138688</td>\n",
       "      <td>6/13/2022</td>\n",
       "      <td>20220613</td>\n",
       "      <td>Deirdre Bailey</td>\n",
       "      <td>United States</td>\n",
       "      <td>New York City</td>\n",
       "      <td>AMER</td>\n",
       "      <td>NAMER</td>\n",
       "      <td>Phillips 66</td>\n",
       "      <td>1056</td>\n",
       "      <td>Energy</td>\n",
       "      <td>Strategic</td>\n",
       "      <td>FinanceHub</td>\n",
       "      <td>JI6BVL70HQ</td>\n",
       "      <td>14.6200</td>\n",
       "      <td>2</td>\n",
       "      <td>0.00</td>\n",
       "      <td>6.8714</td>\n",
       "    </tr>\n",
       "    <tr>\n",
       "      <th>3</th>\n",
       "      <td>4</td>\n",
       "      <td>EMEA-2021-108966</td>\n",
       "      <td>10/11/2021</td>\n",
       "      <td>20211011</td>\n",
       "      <td>Zoe Hodges</td>\n",
       "      <td>Germany</td>\n",
       "      <td>Stuttgart</td>\n",
       "      <td>EMEA</td>\n",
       "      <td>EU-WEST</td>\n",
       "      <td>Royal Dutch Shell</td>\n",
       "      <td>1031</td>\n",
       "      <td>Energy</td>\n",
       "      <td>SMB</td>\n",
       "      <td>ContactMatcher</td>\n",
       "      <td>DE9GJKGD44</td>\n",
       "      <td>957.5775</td>\n",
       "      <td>5</td>\n",
       "      <td>0.45</td>\n",
       "      <td>-383.0310</td>\n",
       "    </tr>\n",
       "    <tr>\n",
       "      <th>4</th>\n",
       "      <td>5</td>\n",
       "      <td>EMEA-2021-108966</td>\n",
       "      <td>10/11/2021</td>\n",
       "      <td>20211011</td>\n",
       "      <td>Zoe Hodges</td>\n",
       "      <td>Germany</td>\n",
       "      <td>Stuttgart</td>\n",
       "      <td>EMEA</td>\n",
       "      <td>EU-WEST</td>\n",
       "      <td>Royal Dutch Shell</td>\n",
       "      <td>1031</td>\n",
       "      <td>Energy</td>\n",
       "      <td>SMB</td>\n",
       "      <td>Marketing Suite - Gold</td>\n",
       "      <td>OIF7NY23WD</td>\n",
       "      <td>22.3680</td>\n",
       "      <td>2</td>\n",
       "      <td>0.20</td>\n",
       "      <td>2.5164</td>\n",
       "    </tr>\n",
       "  </tbody>\n",
       "</table>\n",
       "</div>"
      ],
      "text/plain": [
       "   Row ID          Order ID  Order Date  Date Key    Contact Name  \\\n",
       "0       1  EMEA-2022-152156   11/9/2022  20221109     Nathan Bell   \n",
       "1       2  EMEA-2022-152156   11/9/2022  20221109     Nathan Bell   \n",
       "2       3  AMER-2022-138688   6/13/2022  20220613  Deirdre Bailey   \n",
       "3       4  EMEA-2021-108966  10/11/2021  20211011      Zoe Hodges   \n",
       "4       5  EMEA-2021-108966  10/11/2021  20211011      Zoe Hodges   \n",
       "\n",
       "         Country           City Region Subregion           Customer  \\\n",
       "0        Ireland         Dublin   EMEA      UKIR            Chevron   \n",
       "1        Ireland         Dublin   EMEA      UKIR            Chevron   \n",
       "2  United States  New York City   AMER     NAMER        Phillips 66   \n",
       "3        Germany      Stuttgart   EMEA   EU-WEST  Royal Dutch Shell   \n",
       "4        Germany      Stuttgart   EMEA   EU-WEST  Royal Dutch Shell   \n",
       "\n",
       "   Customer ID Industry    Segment                 Product     License  \\\n",
       "0         1017   Energy        SMB         Marketing Suite  16GRM07R1K   \n",
       "1         1017   Energy        SMB              FinanceHub  QLIW57KZUV   \n",
       "2         1056   Energy  Strategic              FinanceHub  JI6BVL70HQ   \n",
       "3         1031   Energy        SMB          ContactMatcher  DE9GJKGD44   \n",
       "4         1031   Energy        SMB  Marketing Suite - Gold  OIF7NY23WD   \n",
       "\n",
       "      Sales  Quantity  Discount    Profit  \n",
       "0  261.9600         2      0.00   41.9136  \n",
       "1  731.9400         3      0.00  219.5820  \n",
       "2   14.6200         2      0.00    6.8714  \n",
       "3  957.5775         5      0.45 -383.0310  \n",
       "4   22.3680         2      0.20    2.5164  "
      ]
     },
     "execution_count": 3,
     "metadata": {},
     "output_type": "execute_result"
    }
   ],
   "source": [
    "df=pd.read_csv('Saas-Sales.csv')\n",
    "df.head()"
   ]
  },
  {
   "cell_type": "markdown",
   "metadata": {},
   "source": [
    "## Data Insight\n",
    "1. Row ID: A unique identifier for each transaction.\n",
    "2. Order ID: A unique identifier for each order.\n",
    "3. Order Date: The date when the order was placed.\n",
    "4. Date Key: A numerical representation of the order date (YYYYMMDD).\n",
    "5. Contact Name: The name of the person who placed the order.\n",
    "6. Country: The country where the order was placed.\n",
    "7. City: The city where the order was placed.\n",
    "8. Region: The region where the order was placed.\n",
    "9. Subregion: The subregion where the order was placed.\n",
    "10. Customer: The name of the company that placed the order.\n",
    "11. Customer ID: A unique identifier for each customer.\n",
    "12. Industry: The industry the customer belongs to.\n",
    "13. Segment: The customer segment (SMB, Strategic, Enterprise, etc.).\n",
    "14. Product: The product was ordered.\n",
    "15. License: The license key for the product.\n",
    "16. Sales: The total sales amount for the transaction.\n",
    "17. Quantity: The total number of items in the transaction.\n",
    "18. Discount: The discount applied to the transaction.\n",
    "19. Profit: The profit from the transaction."
   ]
  },
  {
   "cell_type": "markdown",
   "metadata": {},
   "source": [
    "## Data Understanding and Cleaning"
   ]
  },
  {
   "cell_type": "markdown",
   "metadata": {},
   "source": [
    "Before we proceed to analyze the existing issues, let's first get acquainted with the data we have. First, we will examine the data types of the values we possess."
   ]
  },
  {
   "cell_type": "code",
   "execution_count": 4,
   "metadata": {},
   "outputs": [
    {
     "name": "stdout",
     "output_type": "stream",
     "text": [
      "The number of rows and columns in the dataset df is (9994, 19)\n",
      "<class 'pandas.core.frame.DataFrame'>\n",
      "RangeIndex: 9994 entries, 0 to 9993\n",
      "Data columns (total 19 columns):\n",
      " #   Column        Non-Null Count  Dtype  \n",
      "---  ------        --------------  -----  \n",
      " 0   Row ID        9994 non-null   int64  \n",
      " 1   Order ID      9994 non-null   object \n",
      " 2   Order Date    9994 non-null   object \n",
      " 3   Date Key      9994 non-null   int64  \n",
      " 4   Contact Name  9994 non-null   object \n",
      " 5   Country       9994 non-null   object \n",
      " 6   City          9994 non-null   object \n",
      " 7   Region        9994 non-null   object \n",
      " 8   Subregion     9994 non-null   object \n",
      " 9   Customer      9994 non-null   object \n",
      " 10  Customer ID   9994 non-null   int64  \n",
      " 11  Industry      9994 non-null   object \n",
      " 12  Segment       9994 non-null   object \n",
      " 13  Product       9994 non-null   object \n",
      " 14  License       9994 non-null   object \n",
      " 15  Sales         9994 non-null   float64\n",
      " 16  Quantity      9994 non-null   int64  \n",
      " 17  Discount      9994 non-null   float64\n",
      " 18  Profit        9994 non-null   float64\n",
      "dtypes: float64(3), int64(4), object(12)\n",
      "memory usage: 1.4+ MB\n"
     ]
    }
   ],
   "source": [
    "print(f'The number of rows and columns in the dataset df is {df.shape}')\n",
    "df.info()"
   ]
  },
  {
   "cell_type": "markdown",
   "metadata": {},
   "source": [
    "The data type of the order date is still in the form of an object, so we need to change it. There is a similar column to the order date, which is the date key, but we don't need to replace it since it holds the same data values as the order date."
   ]
  },
  {
   "cell_type": "code",
   "execution_count": 5,
   "metadata": {},
   "outputs": [
    {
     "name": "stdout",
     "output_type": "stream",
     "text": [
      "<class 'pandas.core.frame.DataFrame'>\n",
      "RangeIndex: 9994 entries, 0 to 9993\n",
      "Data columns (total 19 columns):\n",
      " #   Column        Non-Null Count  Dtype         \n",
      "---  ------        --------------  -----         \n",
      " 0   Row ID        9994 non-null   int64         \n",
      " 1   Order ID      9994 non-null   object        \n",
      " 2   Order Date    9994 non-null   datetime64[ns]\n",
      " 3   Date Key      9994 non-null   int64         \n",
      " 4   Contact Name  9994 non-null   object        \n",
      " 5   Country       9994 non-null   object        \n",
      " 6   City          9994 non-null   object        \n",
      " 7   Region        9994 non-null   object        \n",
      " 8   Subregion     9994 non-null   object        \n",
      " 9   Customer      9994 non-null   object        \n",
      " 10  Customer ID   9994 non-null   int64         \n",
      " 11  Industry      9994 non-null   object        \n",
      " 12  Segment       9994 non-null   object        \n",
      " 13  Product       9994 non-null   object        \n",
      " 14  License       9994 non-null   object        \n",
      " 15  Sales         9994 non-null   float64       \n",
      " 16  Quantity      9994 non-null   int64         \n",
      " 17  Discount      9994 non-null   float64       \n",
      " 18  Profit        9994 non-null   float64       \n",
      "dtypes: datetime64[ns](1), float64(3), int64(4), object(11)\n",
      "memory usage: 1.4+ MB\n"
     ]
    }
   ],
   "source": [
    "df['Order Date'] = pd.to_datetime(df['Order Date'])\n",
    "df.info()"
   ]
  },
  {
   "cell_type": "markdown",
   "metadata": {},
   "source": [
    "After successfully changing the data type, here is the display of the dataset information."
   ]
  },
  {
   "cell_type": "code",
   "execution_count": 6,
   "metadata": {},
   "outputs": [
    {
     "data": {
      "text/html": [
       "<div>\n",
       "<style scoped>\n",
       "    .dataframe tbody tr th:only-of-type {\n",
       "        vertical-align: middle;\n",
       "    }\n",
       "\n",
       "    .dataframe tbody tr th {\n",
       "        vertical-align: top;\n",
       "    }\n",
       "\n",
       "    .dataframe thead th {\n",
       "        text-align: right;\n",
       "    }\n",
       "</style>\n",
       "<table border=\"1\" class=\"dataframe\">\n",
       "  <thead>\n",
       "    <tr style=\"text-align: right;\">\n",
       "      <th></th>\n",
       "      <th>Row ID</th>\n",
       "      <th>Order Date</th>\n",
       "      <th>Date Key</th>\n",
       "      <th>Customer ID</th>\n",
       "      <th>Sales</th>\n",
       "      <th>Quantity</th>\n",
       "      <th>Discount</th>\n",
       "      <th>Profit</th>\n",
       "    </tr>\n",
       "  </thead>\n",
       "  <tbody>\n",
       "    <tr>\n",
       "      <th>count</th>\n",
       "      <td>9994.000000</td>\n",
       "      <td>9994</td>\n",
       "      <td>9.994000e+03</td>\n",
       "      <td>9994.000000</td>\n",
       "      <td>9994.000000</td>\n",
       "      <td>9994.000000</td>\n",
       "      <td>9994.000000</td>\n",
       "      <td>9994.000000</td>\n",
       "    </tr>\n",
       "    <tr>\n",
       "      <th>mean</th>\n",
       "      <td>4997.500000</td>\n",
       "      <td>2022-05-01 00:07:12.259355648</td>\n",
       "      <td>2.021803e+07</td>\n",
       "      <td>1049.771963</td>\n",
       "      <td>229.858001</td>\n",
       "      <td>3.789574</td>\n",
       "      <td>0.156203</td>\n",
       "      <td>28.656896</td>\n",
       "    </tr>\n",
       "    <tr>\n",
       "      <th>min</th>\n",
       "      <td>1.000000</td>\n",
       "      <td>2020-01-04 00:00:00</td>\n",
       "      <td>2.020010e+07</td>\n",
       "      <td>1001.000000</td>\n",
       "      <td>0.444000</td>\n",
       "      <td>1.000000</td>\n",
       "      <td>0.000000</td>\n",
       "      <td>-6599.978000</td>\n",
       "    </tr>\n",
       "    <tr>\n",
       "      <th>25%</th>\n",
       "      <td>2499.250000</td>\n",
       "      <td>2021-05-23 00:00:00</td>\n",
       "      <td>2.021052e+07</td>\n",
       "      <td>1024.000000</td>\n",
       "      <td>17.280000</td>\n",
       "      <td>2.000000</td>\n",
       "      <td>0.000000</td>\n",
       "      <td>1.728750</td>\n",
       "    </tr>\n",
       "    <tr>\n",
       "      <th>50%</th>\n",
       "      <td>4997.500000</td>\n",
       "      <td>2022-06-27 00:00:00</td>\n",
       "      <td>2.022063e+07</td>\n",
       "      <td>1049.000000</td>\n",
       "      <td>54.490000</td>\n",
       "      <td>3.000000</td>\n",
       "      <td>0.200000</td>\n",
       "      <td>8.666500</td>\n",
       "    </tr>\n",
       "    <tr>\n",
       "      <th>75%</th>\n",
       "      <td>7495.750000</td>\n",
       "      <td>2023-05-15 00:00:00</td>\n",
       "      <td>2.023052e+07</td>\n",
       "      <td>1076.000000</td>\n",
       "      <td>209.940000</td>\n",
       "      <td>5.000000</td>\n",
       "      <td>0.200000</td>\n",
       "      <td>29.364000</td>\n",
       "    </tr>\n",
       "    <tr>\n",
       "      <th>max</th>\n",
       "      <td>9994.000000</td>\n",
       "      <td>2023-12-31 00:00:00</td>\n",
       "      <td>2.023123e+07</td>\n",
       "      <td>1101.000000</td>\n",
       "      <td>22638.480000</td>\n",
       "      <td>14.000000</td>\n",
       "      <td>0.800000</td>\n",
       "      <td>8399.976000</td>\n",
       "    </tr>\n",
       "    <tr>\n",
       "      <th>std</th>\n",
       "      <td>2885.163629</td>\n",
       "      <td>NaN</td>\n",
       "      <td>1.123898e+04</td>\n",
       "      <td>29.719388</td>\n",
       "      <td>623.245101</td>\n",
       "      <td>2.225110</td>\n",
       "      <td>0.206452</td>\n",
       "      <td>234.260108</td>\n",
       "    </tr>\n",
       "  </tbody>\n",
       "</table>\n",
       "</div>"
      ],
      "text/plain": [
       "            Row ID                     Order Date      Date Key  Customer ID  \\\n",
       "count  9994.000000                           9994  9.994000e+03  9994.000000   \n",
       "mean   4997.500000  2022-05-01 00:07:12.259355648  2.021803e+07  1049.771963   \n",
       "min       1.000000            2020-01-04 00:00:00  2.020010e+07  1001.000000   \n",
       "25%    2499.250000            2021-05-23 00:00:00  2.021052e+07  1024.000000   \n",
       "50%    4997.500000            2022-06-27 00:00:00  2.022063e+07  1049.000000   \n",
       "75%    7495.750000            2023-05-15 00:00:00  2.023052e+07  1076.000000   \n",
       "max    9994.000000            2023-12-31 00:00:00  2.023123e+07  1101.000000   \n",
       "std    2885.163629                            NaN  1.123898e+04    29.719388   \n",
       "\n",
       "              Sales     Quantity     Discount       Profit  \n",
       "count   9994.000000  9994.000000  9994.000000  9994.000000  \n",
       "mean     229.858001     3.789574     0.156203    28.656896  \n",
       "min        0.444000     1.000000     0.000000 -6599.978000  \n",
       "25%       17.280000     2.000000     0.000000     1.728750  \n",
       "50%       54.490000     3.000000     0.200000     8.666500  \n",
       "75%      209.940000     5.000000     0.200000    29.364000  \n",
       "max    22638.480000    14.000000     0.800000  8399.976000  \n",
       "std      623.245101     2.225110     0.206452   234.260108  "
      ]
     },
     "metadata": {},
     "output_type": "display_data"
    },
    {
     "data": {
      "text/html": [
       "<div>\n",
       "<style scoped>\n",
       "    .dataframe tbody tr th:only-of-type {\n",
       "        vertical-align: middle;\n",
       "    }\n",
       "\n",
       "    .dataframe tbody tr th {\n",
       "        vertical-align: top;\n",
       "    }\n",
       "\n",
       "    .dataframe thead th {\n",
       "        text-align: right;\n",
       "    }\n",
       "</style>\n",
       "<table border=\"1\" class=\"dataframe\">\n",
       "  <thead>\n",
       "    <tr style=\"text-align: right;\">\n",
       "      <th></th>\n",
       "      <th>Order ID</th>\n",
       "      <th>Contact Name</th>\n",
       "      <th>Country</th>\n",
       "      <th>City</th>\n",
       "      <th>Region</th>\n",
       "      <th>Subregion</th>\n",
       "      <th>Customer</th>\n",
       "      <th>Industry</th>\n",
       "      <th>Segment</th>\n",
       "      <th>Product</th>\n",
       "      <th>License</th>\n",
       "    </tr>\n",
       "  </thead>\n",
       "  <tbody>\n",
       "    <tr>\n",
       "      <th>count</th>\n",
       "      <td>9994</td>\n",
       "      <td>9994</td>\n",
       "      <td>9994</td>\n",
       "      <td>9994</td>\n",
       "      <td>9994</td>\n",
       "      <td>9994</td>\n",
       "      <td>9994</td>\n",
       "      <td>9994</td>\n",
       "      <td>9994</td>\n",
       "      <td>9994</td>\n",
       "      <td>9994</td>\n",
       "    </tr>\n",
       "    <tr>\n",
       "      <th>unique</th>\n",
       "      <td>5009</td>\n",
       "      <td>793</td>\n",
       "      <td>48</td>\n",
       "      <td>262</td>\n",
       "      <td>3</td>\n",
       "      <td>12</td>\n",
       "      <td>99</td>\n",
       "      <td>10</td>\n",
       "      <td>3</td>\n",
       "      <td>14</td>\n",
       "      <td>9994</td>\n",
       "    </tr>\n",
       "    <tr>\n",
       "      <th>top</th>\n",
       "      <td>EMEA-2023-100111</td>\n",
       "      <td>Leonard Kelly</td>\n",
       "      <td>United States</td>\n",
       "      <td>London</td>\n",
       "      <td>EMEA</td>\n",
       "      <td>NAMER</td>\n",
       "      <td>Allianz</td>\n",
       "      <td>Finance</td>\n",
       "      <td>SMB</td>\n",
       "      <td>ContactMatcher</td>\n",
       "      <td>16GRM07R1K</td>\n",
       "    </tr>\n",
       "    <tr>\n",
       "      <th>freq</th>\n",
       "      <td>14</td>\n",
       "      <td>37</td>\n",
       "      <td>2001</td>\n",
       "      <td>922</td>\n",
       "      <td>4219</td>\n",
       "      <td>2507</td>\n",
       "      <td>192</td>\n",
       "      <td>2127</td>\n",
       "      <td>5191</td>\n",
       "      <td>1842</td>\n",
       "      <td>1</td>\n",
       "    </tr>\n",
       "  </tbody>\n",
       "</table>\n",
       "</div>"
      ],
      "text/plain": [
       "                Order ID   Contact Name        Country    City Region  \\\n",
       "count               9994           9994           9994    9994   9994   \n",
       "unique              5009            793             48     262      3   \n",
       "top     EMEA-2023-100111  Leonard Kelly  United States  London   EMEA   \n",
       "freq                  14             37           2001     922   4219   \n",
       "\n",
       "       Subregion Customer Industry Segment         Product     License  \n",
       "count       9994     9994     9994    9994            9994        9994  \n",
       "unique        12       99       10       3              14        9994  \n",
       "top        NAMER  Allianz  Finance     SMB  ContactMatcher  16GRM07R1K  \n",
       "freq        2507      192     2127    5191            1842           1  "
      ]
     },
     "metadata": {},
     "output_type": "display_data"
    }
   ],
   "source": [
    "display(df.describe(), df.describe(include='object'))"
   ]
  },
  {
   "cell_type": "markdown",
   "metadata": {},
   "source": [
    " We can get some insights from this dataset information.\n",
    " - AWS SaaS Sales and Marketing Datasets have 19 columns with 9994 number of row \n",
    " - There is no empty data\n",
    " - 'Order ID', 'License', and 'Customer ID' columns have unique ID values\n",
    " - The order date column was originally in object form, but I have now changed it to the datetime data type\n",
    " - We have identified an anomaly in the 'Order Date' column with a maximum value of 2023-12-31, where transaction timestamp records indicate activity extending until December 2023, while the current date is still in late August 2023. Upon reviewing the data dictionary, we noticed the term 'fictitious' which signifies that this is fictitious data\n",
    " - There is a negative profit that almost touches $7 in the minimum value of the 'Profit' column, which can serve as a reference for us to analyze the data. Before proceeding with data analysis, we also need to ensure whether there is any missing data."
   ]
  },
  {
   "cell_type": "markdown",
   "metadata": {},
   "source": [
    "### Missing Value"
   ]
  },
  {
   "cell_type": "code",
   "execution_count": 7,
   "metadata": {},
   "outputs": [
    {
     "data": {
      "text/plain": [
       "Row ID          0\n",
       "Order ID        0\n",
       "Order Date      0\n",
       "Date Key        0\n",
       "Contact Name    0\n",
       "Country         0\n",
       "City            0\n",
       "Region          0\n",
       "Subregion       0\n",
       "Customer        0\n",
       "Customer ID     0\n",
       "Industry        0\n",
       "Segment         0\n",
       "Product         0\n",
       "License         0\n",
       "Sales           0\n",
       "Quantity        0\n",
       "Discount        0\n",
       "Profit          0\n",
       "dtype: int64"
      ]
     },
     "execution_count": 7,
     "metadata": {},
     "output_type": "execute_result"
    }
   ],
   "source": [
    "# The percentage of missing values in each column.\n",
    "df.isna().sum()"
   ]
  },
  {
   "cell_type": "markdown",
   "metadata": {},
   "source": [
    "There are no missing values in the dataset"
   ]
  },
  {
   "cell_type": "markdown",
   "metadata": {},
   "source": [
    "## Duplicate Check"
   ]
  },
  {
   "cell_type": "code",
   "execution_count": 8,
   "metadata": {},
   "outputs": [
    {
     "data": {
      "text/plain": [
       "0"
      ]
     },
     "execution_count": 8,
     "metadata": {},
     "output_type": "execute_result"
    }
   ],
   "source": [
    "len(df[df.duplicated()])"
   ]
  },
  {
   "cell_type": "markdown",
   "metadata": {},
   "source": [
    "There are no duplicates in the dataset"
   ]
  },
  {
   "cell_type": "markdown",
   "metadata": {},
   "source": [
    "After checking for the presence of missing values and duplicates, it turns out that **the data we have does not contain any missing or duplicate values**."
   ]
  },
  {
   "cell_type": "markdown",
   "metadata": {},
   "source": [
    "# Finding Outlier"
   ]
  },
  {
   "cell_type": "code",
   "execution_count": 9,
   "metadata": {},
   "outputs": [
    {
     "data": {
      "image/png": "[encoded data removed]",
      "text/plain": [
       "<Figure size 1500x1000 with 4 Axes>"
      ]
     },
     "metadata": {},
     "output_type": "display_data"
    }
   ],
   "source": [
    "import matplotlib.pyplot as plt\n",
    "import seaborn as sns\n",
    "\n",
    "plt.style.use('ggplot')\n",
    "\n",
    "fig, axes = plt.subplots(nrows=2, ncols=2, figsize=(15, 10))  # figsize (15, 10)\n",
    "\n",
    "sns.boxplot(data=df, x='Sales', ax=axes[0, 0])  # index (0, 0) for first subplot\n",
    "axes[0, 0].set_title('Sales')\n",
    "\n",
    "sns.boxplot(data=df, x='Quantity', ax=axes[0, 1])  # index (0, 1) for second subplot\n",
    "axes[0, 1].set_title('Quantity')\n",
    "\n",
    "sns.boxplot(data=df, x='Discount', ax=axes[1, 0])  # index (1, 0) for third subplot\n",
    "axes[1, 0].set_title('Discount')\n",
    "\n",
    "sns.boxplot(data=df, x='Profit', ax=axes[1, 1])  # index (1, 1) for fourth subplot\n",
    "axes[1, 1].set_title('Profit')\n",
    "\n",
    "plt.tight_layout()\n",
    "plt.show()"
   ]
  },
  {
   "cell_type": "markdown",
   "metadata": {},
   "source": [
    "From the data visualization above, we can observe the presence of outliers in both sales and profit. This serves as a reference for us to identify the causes of the significant profit changes. Regarding the values of discounts offered, they still seem reasonable given the number of outliers, but the discount rates could be lowered once the transaction volume becomes higher. Additionally, there are some transactions with a high quantity of items, and this presents an opportunity for us to analyze whether a slight price increase might boost profits, offsetting the impact of increased discount rates in areas where our products haven't gained much traction yet. After going through the data comprehension phase, it's now time for us to analyze potential causes underlying the observed issue."
   ]
  },
  {
   "cell_type": "markdown",
   "metadata": {},
   "source": [
    "# Data Analysis"
   ]
  },
  {
   "cell_type": "markdown",
   "metadata": {},
   "source": [
    "Before conducting the analysis, I chose to delete some unnecessary tables to allow us to focus on the data that we want to analyze."
   ]
  },
  {
   "cell_type": "markdown",
   "metadata": {},
   "source": [
    "    Remove Tables"
   ]
  },
  {
   "cell_type": "code",
   "execution_count": 10,
   "metadata": {},
   "outputs": [
    {
     "data": {
      "text/html": [
       "<div>\n",
       "<style scoped>\n",
       "    .dataframe tbody tr th:only-of-type {\n",
       "        vertical-align: middle;\n",
       "    }\n",
       "\n",
       "    .dataframe tbody tr th {\n",
       "        vertical-align: top;\n",
       "    }\n",
       "\n",
       "    .dataframe thead th {\n",
       "        text-align: right;\n",
       "    }\n",
       "</style>\n",
       "<table border=\"1\" class=\"dataframe\">\n",
       "  <thead>\n",
       "    <tr style=\"text-align: right;\">\n",
       "      <th></th>\n",
       "      <th>Row ID</th>\n",
       "      <th>Order ID</th>\n",
       "      <th>Order Date</th>\n",
       "      <th>Date Key</th>\n",
       "      <th>Contact Name</th>\n",
       "      <th>Country</th>\n",
       "      <th>City</th>\n",
       "      <th>Region</th>\n",
       "      <th>Subregion</th>\n",
       "      <th>Customer</th>\n",
       "      <th>Customer ID</th>\n",
       "      <th>Industry</th>\n",
       "      <th>Segment</th>\n",
       "      <th>Product</th>\n",
       "      <th>License</th>\n",
       "      <th>Sales</th>\n",
       "      <th>Quantity</th>\n",
       "      <th>Discount</th>\n",
       "      <th>Profit</th>\n",
       "    </tr>\n",
       "  </thead>\n",
       "  <tbody>\n",
       "    <tr>\n",
       "      <th>0</th>\n",
       "      <td>1</td>\n",
       "      <td>EMEA-2022-152156</td>\n",
       "      <td>2022-11-09</td>\n",
       "      <td>20221109</td>\n",
       "      <td>Nathan Bell</td>\n",
       "      <td>Ireland</td>\n",
       "      <td>Dublin</td>\n",
       "      <td>EMEA</td>\n",
       "      <td>UKIR</td>\n",
       "      <td>Chevron</td>\n",
       "      <td>1017</td>\n",
       "      <td>Energy</td>\n",
       "      <td>SMB</td>\n",
       "      <td>Marketing Suite</td>\n",
       "      <td>16GRM07R1K</td>\n",
       "      <td>261.96</td>\n",
       "      <td>2</td>\n",
       "      <td>0.0</td>\n",
       "      <td>41.9136</td>\n",
       "    </tr>\n",
       "    <tr>\n",
       "      <th>1</th>\n",
       "      <td>2</td>\n",
       "      <td>EMEA-2022-152156</td>\n",
       "      <td>2022-11-09</td>\n",
       "      <td>20221109</td>\n",
       "      <td>Nathan Bell</td>\n",
       "      <td>Ireland</td>\n",
       "      <td>Dublin</td>\n",
       "      <td>EMEA</td>\n",
       "      <td>UKIR</td>\n",
       "      <td>Chevron</td>\n",
       "      <td>1017</td>\n",
       "      <td>Energy</td>\n",
       "      <td>SMB</td>\n",
       "      <td>FinanceHub</td>\n",
       "      <td>QLIW57KZUV</td>\n",
       "      <td>731.94</td>\n",
       "      <td>3</td>\n",
       "      <td>0.0</td>\n",
       "      <td>219.5820</td>\n",
       "    </tr>\n",
       "  </tbody>\n",
       "</table>\n",
       "</div>"
      ],
      "text/plain": [
       "   Row ID          Order ID Order Date  Date Key Contact Name  Country  \\\n",
       "0       1  EMEA-2022-152156 2022-11-09  20221109  Nathan Bell  Ireland   \n",
       "1       2  EMEA-2022-152156 2022-11-09  20221109  Nathan Bell  Ireland   \n",
       "\n",
       "     City Region Subregion Customer  Customer ID Industry Segment  \\\n",
       "0  Dublin   EMEA      UKIR  Chevron         1017   Energy     SMB   \n",
       "1  Dublin   EMEA      UKIR  Chevron         1017   Energy     SMB   \n",
       "\n",
       "           Product     License   Sales  Quantity  Discount    Profit  \n",
       "0  Marketing Suite  16GRM07R1K  261.96         2       0.0   41.9136  \n",
       "1       FinanceHub  QLIW57KZUV  731.94         3       0.0  219.5820  "
      ]
     },
     "execution_count": 10,
     "metadata": {},
     "output_type": "execute_result"
    }
   ],
   "source": [
    "df.head(2)"
   ]
  },
  {
   "cell_type": "code",
   "execution_count": 11,
   "metadata": {},
   "outputs": [],
   "source": [
    "columns_to_drop = ['Row ID', 'Order ID', 'Date Key', 'Contact Name', 'Subregion', 'Customer ID', 'Segment', 'License']\n",
    "df.drop(columns_to_drop, axis=1, inplace=True)"
   ]
  },
  {
   "cell_type": "markdown",
   "metadata": {},
   "source": [
    "I choose to remove the row ID, order ID, and license because they are unique values. The date key has the same value as the order date. Subregion and segment are names provided by AWS for data areas which, in my opinion, are adequately represented by city, country, and region values. Contact Name and Customer ID are not necessary since I will be analyzing profit fluctuations, which require Sales, Quantity, Discount, Area, and Sales Date values."
   ]
  },
  {
   "cell_type": "code",
   "execution_count": 12,
   "metadata": {},
   "outputs": [
    {
     "data": {
      "text/html": [
       "<div>\n",
       "<style scoped>\n",
       "    .dataframe tbody tr th:only-of-type {\n",
       "        vertical-align: middle;\n",
       "    }\n",
       "\n",
       "    .dataframe tbody tr th {\n",
       "        vertical-align: top;\n",
       "    }\n",
       "\n",
       "    .dataframe thead th {\n",
       "        text-align: right;\n",
       "    }\n",
       "</style>\n",
       "<table border=\"1\" class=\"dataframe\">\n",
       "  <thead>\n",
       "    <tr style=\"text-align: right;\">\n",
       "      <th></th>\n",
       "      <th>Order Date</th>\n",
       "      <th>Country</th>\n",
       "      <th>City</th>\n",
       "      <th>Region</th>\n",
       "      <th>Customer</th>\n",
       "      <th>Industry</th>\n",
       "      <th>Product</th>\n",
       "      <th>Sales</th>\n",
       "      <th>Quantity</th>\n",
       "      <th>Discount</th>\n",
       "      <th>Profit</th>\n",
       "    </tr>\n",
       "  </thead>\n",
       "  <tbody>\n",
       "    <tr>\n",
       "      <th>0</th>\n",
       "      <td>2022-11-09</td>\n",
       "      <td>Ireland</td>\n",
       "      <td>Dublin</td>\n",
       "      <td>EMEA</td>\n",
       "      <td>Chevron</td>\n",
       "      <td>Energy</td>\n",
       "      <td>Marketing Suite</td>\n",
       "      <td>261.96</td>\n",
       "      <td>2</td>\n",
       "      <td>0.0</td>\n",
       "      <td>41.9136</td>\n",
       "    </tr>\n",
       "  </tbody>\n",
       "</table>\n",
       "</div>"
      ],
      "text/plain": [
       "  Order Date  Country    City Region Customer Industry          Product  \\\n",
       "0 2022-11-09  Ireland  Dublin   EMEA  Chevron   Energy  Marketing Suite   \n",
       "\n",
       "    Sales  Quantity  Discount   Profit  \n",
       "0  261.96         2       0.0  41.9136  "
      ]
     },
     "execution_count": 12,
     "metadata": {},
     "output_type": "execute_result"
    }
   ],
   "source": [
    "df.head(1)"
   ]
  },
  {
   "cell_type": "markdown",
   "metadata": {},
   "source": [
    "## 1. What is the best-selling product?"
   ]
  },
  {
   "cell_type": "code",
   "execution_count": 13,
   "metadata": {},
   "outputs": [
    {
     "data": {
      "text/plain": [
       "Product\n",
       "ContactMatcher                1842\n",
       "Support                       1560\n",
       "FinanceHub                     981\n",
       "SaaS Connector Pack            957\n",
       "Site Analytics                 889\n",
       "Marketing Suite - Gold         846\n",
       "ChatBot Plugin                 796\n",
       "Data Smasher                   775\n",
       "OneView                        466\n",
       "SaaS Connector Pack - Gold     254\n",
       "Marketing Suite                228\n",
       "Storage                        217\n",
       "Big Ol Database                115\n",
       "Alchemy                         68\n",
       "Name: count, dtype: int64"
      ]
     },
     "execution_count": 13,
     "metadata": {},
     "output_type": "execute_result"
    }
   ],
   "source": [
    "product_counts = df['Product'].value_counts()\n",
    "product_counts"
   ]
  },
  {
   "cell_type": "code",
   "execution_count": 14,
   "metadata": {},
   "outputs": [
    {
     "data": {
      "image/png": "[encoded data removed]",
      "text/plain": [
       "<Figure size 1000x600 with 1 Axes>"
      ]
     },
     "metadata": {},
     "output_type": "display_data"
    }
   ],
   "source": [
    "plt.figure(figsize=(10, 6))\n",
    "sns.countplot(y='Product', data=df, order=product_counts.index)\n",
    "\n",
    "# Menambahkan angka di atas setiap bar\n",
    "for index, value in enumerate(product_counts):\n",
    "    plt.text(value + 1, index, str(value), va='center')  # Menambahkan teks di sebelah kanan bar\n",
    "\n",
    "plt.xlabel('Count')\n",
    "plt.ylabel('Product')\n",
    "plt.title('Number of transactions for each product')\n",
    "plt.show()"
   ]
  },
  {
   "cell_type": "markdown",
   "metadata": {},
   "source": [
    "### ContactMatcher hit the highest number of transactions but not with Alchemy"
   ]
  },
  {
   "cell_type": "markdown",
   "metadata": {},
   "source": [
    "    ContactMatcher vs Alchemy"
   ]
  },
  {
   "cell_type": "markdown",
   "metadata": {},
   "source": [
    "In terms of transaction count, ContactMatcher holds the highest value. But does ContactMatcher generate the highest profit? Since the profit we observed earlier contains many outlier data points, here I am displaying the median value of profit for each product."
   ]
  },
  {
   "cell_type": "markdown",
   "metadata": {},
   "source": [
    "**Median Values from Sales and Profit of Products**"
   ]
  },
  {
   "cell_type": "code",
   "execution_count": 15,
   "metadata": {},
   "outputs": [
    {
     "data": {
      "text/html": [
       "<div>\n",
       "<style scoped>\n",
       "    .dataframe tbody tr th:only-of-type {\n",
       "        vertical-align: middle;\n",
       "    }\n",
       "\n",
       "    .dataframe tbody tr th {\n",
       "        vertical-align: top;\n",
       "    }\n",
       "\n",
       "    .dataframe thead th {\n",
       "        text-align: right;\n",
       "    }\n",
       "</style>\n",
       "<table border=\"1\" class=\"dataframe\">\n",
       "  <thead>\n",
       "    <tr style=\"text-align: right;\">\n",
       "      <th></th>\n",
       "      <th>Product</th>\n",
       "      <th>Sales</th>\n",
       "      <th>Profit</th>\n",
       "    </tr>\n",
       "  </thead>\n",
       "  <tbody>\n",
       "    <tr>\n",
       "      <th>0</th>\n",
       "      <td>Alchemy</td>\n",
       "      <td>1099.98000</td>\n",
       "      <td>332.99420</td>\n",
       "    </tr>\n",
       "    <tr>\n",
       "      <th>1</th>\n",
       "      <td>Big Ol Database</td>\n",
       "      <td>599.98500</td>\n",
       "      <td>38.99740</td>\n",
       "    </tr>\n",
       "    <tr>\n",
       "      <th>11</th>\n",
       "      <td>Site Analytics</td>\n",
       "      <td>209.97000</td>\n",
       "      <td>23.52480</td>\n",
       "    </tr>\n",
       "    <tr>\n",
       "      <th>4</th>\n",
       "      <td>Data Smasher</td>\n",
       "      <td>100.00000</td>\n",
       "      <td>21.00000</td>\n",
       "    </tr>\n",
       "    <tr>\n",
       "      <th>8</th>\n",
       "      <td>OneView</td>\n",
       "      <td>82.69000</td>\n",
       "      <td>17.44650</td>\n",
       "    </tr>\n",
       "    <tr>\n",
       "      <th>10</th>\n",
       "      <td>SaaS Connector Pack - Gold</td>\n",
       "      <td>29.04600</td>\n",
       "      <td>12.71835</td>\n",
       "    </tr>\n",
       "    <tr>\n",
       "      <th>13</th>\n",
       "      <td>Support</td>\n",
       "      <td>26.82000</td>\n",
       "      <td>10.03440</td>\n",
       "    </tr>\n",
       "    <tr>\n",
       "      <th>9</th>\n",
       "      <td>SaaS Connector Pack</td>\n",
       "      <td>41.96000</td>\n",
       "      <td>9.10200</td>\n",
       "    </tr>\n",
       "    <tr>\n",
       "      <th>5</th>\n",
       "      <td>FinanceHub</td>\n",
       "      <td>180.98000</td>\n",
       "      <td>7.76880</td>\n",
       "    </tr>\n",
       "    <tr>\n",
       "      <th>7</th>\n",
       "      <td>Marketing Suite - Gold</td>\n",
       "      <td>113.92800</td>\n",
       "      <td>7.75700</td>\n",
       "    </tr>\n",
       "    <tr>\n",
       "      <th>6</th>\n",
       "      <td>Marketing Suite</td>\n",
       "      <td>306.82025</td>\n",
       "      <td>4.13330</td>\n",
       "    </tr>\n",
       "    <tr>\n",
       "      <th>2</th>\n",
       "      <td>ChatBot Plugin</td>\n",
       "      <td>15.50400</td>\n",
       "      <td>3.72360</td>\n",
       "    </tr>\n",
       "    <tr>\n",
       "      <th>3</th>\n",
       "      <td>ContactMatcher</td>\n",
       "      <td>28.78700</td>\n",
       "      <td>3.14760</td>\n",
       "    </tr>\n",
       "    <tr>\n",
       "      <th>12</th>\n",
       "      <td>Storage</td>\n",
       "      <td>10.58400</td>\n",
       "      <td>2.84160</td>\n",
       "    </tr>\n",
       "  </tbody>\n",
       "</table>\n",
       "</div>"
      ],
      "text/plain": [
       "                       Product       Sales     Profit\n",
       "0                      Alchemy  1099.98000  332.99420\n",
       "1              Big Ol Database   599.98500   38.99740\n",
       "11              Site Analytics   209.97000   23.52480\n",
       "4                 Data Smasher   100.00000   21.00000\n",
       "8                      OneView    82.69000   17.44650\n",
       "10  SaaS Connector Pack - Gold    29.04600   12.71835\n",
       "13                     Support    26.82000   10.03440\n",
       "9          SaaS Connector Pack    41.96000    9.10200\n",
       "5                   FinanceHub   180.98000    7.76880\n",
       "7       Marketing Suite - Gold   113.92800    7.75700\n",
       "6              Marketing Suite   306.82025    4.13330\n",
       "2               ChatBot Plugin    15.50400    3.72360\n",
       "3               ContactMatcher    28.78700    3.14760\n",
       "12                     Storage    10.58400    2.84160"
      ]
     },
     "execution_count": 15,
     "metadata": {},
     "output_type": "execute_result"
    }
   ],
   "source": [
    "df_product = df.groupby('Product').agg({'Sales':'median', 'Profit':'median'}).reset_index()\n",
    "df_product = df_product.sort_values('Profit', ascending=False)\n",
    "df_product"
   ]
  },
  {
   "cell_type": "code",
   "execution_count": 16,
   "metadata": {},
   "outputs": [
    {
     "data": {
      "image/png": "[encoded data removed]",
      "text/plain": [
       "<Figure size 1500x1000 with 2 Axes>"
      ]
     },
     "metadata": {},
     "output_type": "display_data"
    }
   ],
   "source": [
    "figure, axes = plt.subplots(2, 1, figsize=(15, 10))\n",
    "\n",
    "# Plot pertama\n",
    "sns.barplot(data=df_product, y='Product', x='Sales', ax=axes[0])\n",
    "axes[0].set_title('Median Product Sold by Products Type')\n",
    "for i, value in enumerate(df_product['Sales']):\n",
    "    axes[0].text(value + 1, i, f'{value:.2f}', va='center')\n",
    "\n",
    "# Plot kedua\n",
    "sns.barplot(data=df_product, y='Product', x='Profit', ax=axes[1])\n",
    "axes[1].set_title('Median Product Profit by Products Type')\n",
    "for i, value in enumerate(df_product['Profit']):\n",
    "    axes[1].text(value + 1, i, f'{value:.2f}', va='center')\n",
    "\n",
    "plt.show()"
   ]
  },
  {
   "cell_type": "markdown",
   "metadata": {},
   "source": [
    "### Alchemy giving the BEST PROFIT"
   ]
  },
  {
   "cell_type": "markdown",
   "metadata": {},
   "source": [
    "After considering the median values, it turns out that Alchemy, in fact, generates the highest profit and sales, while ContactMatcher ranks second lowest in terms of profit and sales generation.\n",
    "\n",
    "The possible scenario here is that this could be due to the fact that the *Selling Prices* of **Alchemy** is HIGHER than **ContactMatcher**. To verify this, I will add a table of the *Original Prices* for each product."
   ]
  },
  {
   "cell_type": "code",
   "execution_count": 17,
   "metadata": {},
   "outputs": [
    {
     "data": {
      "text/html": [
       "<div>\n",
       "<style scoped>\n",
       "    .dataframe tbody tr th:only-of-type {\n",
       "        vertical-align: middle;\n",
       "    }\n",
       "\n",
       "    .dataframe tbody tr th {\n",
       "        vertical-align: top;\n",
       "    }\n",
       "\n",
       "    .dataframe thead th {\n",
       "        text-align: right;\n",
       "    }\n",
       "</style>\n",
       "<table border=\"1\" class=\"dataframe\">\n",
       "  <thead>\n",
       "    <tr style=\"text-align: right;\">\n",
       "      <th></th>\n",
       "      <th>Order Date</th>\n",
       "      <th>Country</th>\n",
       "      <th>City</th>\n",
       "      <th>Region</th>\n",
       "      <th>Customer</th>\n",
       "      <th>Industry</th>\n",
       "      <th>Product</th>\n",
       "      <th>Sales</th>\n",
       "      <th>Quantity</th>\n",
       "      <th>Discount</th>\n",
       "      <th>Profit</th>\n",
       "      <th>Selling Price</th>\n",
       "    </tr>\n",
       "  </thead>\n",
       "  <tbody>\n",
       "    <tr>\n",
       "      <th>0</th>\n",
       "      <td>2022-11-09</td>\n",
       "      <td>Ireland</td>\n",
       "      <td>Dublin</td>\n",
       "      <td>EMEA</td>\n",
       "      <td>Chevron</td>\n",
       "      <td>Energy</td>\n",
       "      <td>Marketing Suite</td>\n",
       "      <td>261.9600</td>\n",
       "      <td>2</td>\n",
       "      <td>0.00</td>\n",
       "      <td>41.9136</td>\n",
       "      <td>130.98</td>\n",
       "    </tr>\n",
       "    <tr>\n",
       "      <th>1</th>\n",
       "      <td>2022-11-09</td>\n",
       "      <td>Ireland</td>\n",
       "      <td>Dublin</td>\n",
       "      <td>EMEA</td>\n",
       "      <td>Chevron</td>\n",
       "      <td>Energy</td>\n",
       "      <td>FinanceHub</td>\n",
       "      <td>731.9400</td>\n",
       "      <td>3</td>\n",
       "      <td>0.00</td>\n",
       "      <td>219.5820</td>\n",
       "      <td>243.98</td>\n",
       "    </tr>\n",
       "    <tr>\n",
       "      <th>2</th>\n",
       "      <td>2022-06-13</td>\n",
       "      <td>United States</td>\n",
       "      <td>New York City</td>\n",
       "      <td>AMER</td>\n",
       "      <td>Phillips 66</td>\n",
       "      <td>Energy</td>\n",
       "      <td>FinanceHub</td>\n",
       "      <td>14.6200</td>\n",
       "      <td>2</td>\n",
       "      <td>0.00</td>\n",
       "      <td>6.8714</td>\n",
       "      <td>7.31</td>\n",
       "    </tr>\n",
       "    <tr>\n",
       "      <th>3</th>\n",
       "      <td>2021-10-11</td>\n",
       "      <td>Germany</td>\n",
       "      <td>Stuttgart</td>\n",
       "      <td>EMEA</td>\n",
       "      <td>Royal Dutch Shell</td>\n",
       "      <td>Energy</td>\n",
       "      <td>ContactMatcher</td>\n",
       "      <td>957.5775</td>\n",
       "      <td>5</td>\n",
       "      <td>0.45</td>\n",
       "      <td>-383.0310</td>\n",
       "      <td>348.21</td>\n",
       "    </tr>\n",
       "    <tr>\n",
       "      <th>4</th>\n",
       "      <td>2021-10-11</td>\n",
       "      <td>Germany</td>\n",
       "      <td>Stuttgart</td>\n",
       "      <td>EMEA</td>\n",
       "      <td>Royal Dutch Shell</td>\n",
       "      <td>Energy</td>\n",
       "      <td>Marketing Suite - Gold</td>\n",
       "      <td>22.3680</td>\n",
       "      <td>2</td>\n",
       "      <td>0.20</td>\n",
       "      <td>2.5164</td>\n",
       "      <td>13.98</td>\n",
       "    </tr>\n",
       "  </tbody>\n",
       "</table>\n",
       "</div>"
      ],
      "text/plain": [
       "  Order Date        Country           City Region           Customer Industry  \\\n",
       "0 2022-11-09        Ireland         Dublin   EMEA            Chevron   Energy   \n",
       "1 2022-11-09        Ireland         Dublin   EMEA            Chevron   Energy   \n",
       "2 2022-06-13  United States  New York City   AMER        Phillips 66   Energy   \n",
       "3 2021-10-11        Germany      Stuttgart   EMEA  Royal Dutch Shell   Energy   \n",
       "4 2021-10-11        Germany      Stuttgart   EMEA  Royal Dutch Shell   Energy   \n",
       "\n",
       "                  Product     Sales  Quantity  Discount    Profit  \\\n",
       "0         Marketing Suite  261.9600         2      0.00   41.9136   \n",
       "1              FinanceHub  731.9400         3      0.00  219.5820   \n",
       "2              FinanceHub   14.6200         2      0.00    6.8714   \n",
       "3          ContactMatcher  957.5775         5      0.45 -383.0310   \n",
       "4  Marketing Suite - Gold   22.3680         2      0.20    2.5164   \n",
       "\n",
       "   Selling Price  \n",
       "0         130.98  \n",
       "1         243.98  \n",
       "2           7.31  \n",
       "3         348.21  \n",
       "4          13.98  "
      ]
     },
     "execution_count": 17,
     "metadata": {},
     "output_type": "execute_result"
    }
   ],
   "source": [
    "df['Selling Price'] = (df['Sales'] / (1 - df['Discount'])) / df['Quantity']\n",
    "df.head(5)"
   ]
  },
  {
   "cell_type": "code",
   "execution_count": 18,
   "metadata": {},
   "outputs": [],
   "source": [
    "# Function to calculate the cost price.\n",
    "def calculate_cost_price(row):\n",
    "    cost_price = (row['Sales'] - row['Profit']) / (1 - row['Discount']) / row['Quantity']\n",
    "    return cost_price\n",
    "\n",
    "# Applying the function to a DataFrame.\n",
    "df['Cost Price'] = df.apply(calculate_cost_price, axis=1)"
   ]
  },
  {
   "cell_type": "code",
   "execution_count": 19,
   "metadata": {},
   "outputs": [
    {
     "data": {
      "text/html": [
       "<div>\n",
       "<style scoped>\n",
       "    .dataframe tbody tr th:only-of-type {\n",
       "        vertical-align: middle;\n",
       "    }\n",
       "\n",
       "    .dataframe tbody tr th {\n",
       "        vertical-align: top;\n",
       "    }\n",
       "\n",
       "    .dataframe thead th {\n",
       "        text-align: right;\n",
       "    }\n",
       "</style>\n",
       "<table border=\"1\" class=\"dataframe\">\n",
       "  <thead>\n",
       "    <tr style=\"text-align: right;\">\n",
       "      <th></th>\n",
       "      <th>Order Date</th>\n",
       "      <th>Country</th>\n",
       "      <th>City</th>\n",
       "      <th>Region</th>\n",
       "      <th>Customer</th>\n",
       "      <th>Industry</th>\n",
       "      <th>Product</th>\n",
       "      <th>Sales</th>\n",
       "      <th>Quantity</th>\n",
       "      <th>Discount</th>\n",
       "      <th>Profit</th>\n",
       "      <th>Selling Price</th>\n",
       "      <th>Cost Price</th>\n",
       "    </tr>\n",
       "  </thead>\n",
       "  <tbody>\n",
       "    <tr>\n",
       "      <th>0</th>\n",
       "      <td>2022-11-09</td>\n",
       "      <td>Ireland</td>\n",
       "      <td>Dublin</td>\n",
       "      <td>EMEA</td>\n",
       "      <td>Chevron</td>\n",
       "      <td>Energy</td>\n",
       "      <td>Marketing Suite</td>\n",
       "      <td>261.9600</td>\n",
       "      <td>2</td>\n",
       "      <td>0.00</td>\n",
       "      <td>41.9136</td>\n",
       "      <td>130.98</td>\n",
       "      <td>110.02320</td>\n",
       "    </tr>\n",
       "    <tr>\n",
       "      <th>1</th>\n",
       "      <td>2022-11-09</td>\n",
       "      <td>Ireland</td>\n",
       "      <td>Dublin</td>\n",
       "      <td>EMEA</td>\n",
       "      <td>Chevron</td>\n",
       "      <td>Energy</td>\n",
       "      <td>FinanceHub</td>\n",
       "      <td>731.9400</td>\n",
       "      <td>3</td>\n",
       "      <td>0.00</td>\n",
       "      <td>219.5820</td>\n",
       "      <td>243.98</td>\n",
       "      <td>170.78600</td>\n",
       "    </tr>\n",
       "    <tr>\n",
       "      <th>2</th>\n",
       "      <td>2022-06-13</td>\n",
       "      <td>United States</td>\n",
       "      <td>New York City</td>\n",
       "      <td>AMER</td>\n",
       "      <td>Phillips 66</td>\n",
       "      <td>Energy</td>\n",
       "      <td>FinanceHub</td>\n",
       "      <td>14.6200</td>\n",
       "      <td>2</td>\n",
       "      <td>0.00</td>\n",
       "      <td>6.8714</td>\n",
       "      <td>7.31</td>\n",
       "      <td>3.87430</td>\n",
       "    </tr>\n",
       "    <tr>\n",
       "      <th>3</th>\n",
       "      <td>2021-10-11</td>\n",
       "      <td>Germany</td>\n",
       "      <td>Stuttgart</td>\n",
       "      <td>EMEA</td>\n",
       "      <td>Royal Dutch Shell</td>\n",
       "      <td>Energy</td>\n",
       "      <td>ContactMatcher</td>\n",
       "      <td>957.5775</td>\n",
       "      <td>5</td>\n",
       "      <td>0.45</td>\n",
       "      <td>-383.0310</td>\n",
       "      <td>348.21</td>\n",
       "      <td>487.49400</td>\n",
       "    </tr>\n",
       "    <tr>\n",
       "      <th>4</th>\n",
       "      <td>2021-10-11</td>\n",
       "      <td>Germany</td>\n",
       "      <td>Stuttgart</td>\n",
       "      <td>EMEA</td>\n",
       "      <td>Royal Dutch Shell</td>\n",
       "      <td>Energy</td>\n",
       "      <td>Marketing Suite - Gold</td>\n",
       "      <td>22.3680</td>\n",
       "      <td>2</td>\n",
       "      <td>0.20</td>\n",
       "      <td>2.5164</td>\n",
       "      <td>13.98</td>\n",
       "      <td>12.40725</td>\n",
       "    </tr>\n",
       "  </tbody>\n",
       "</table>\n",
       "</div>"
      ],
      "text/plain": [
       "  Order Date        Country           City Region           Customer Industry  \\\n",
       "0 2022-11-09        Ireland         Dublin   EMEA            Chevron   Energy   \n",
       "1 2022-11-09        Ireland         Dublin   EMEA            Chevron   Energy   \n",
       "2 2022-06-13  United States  New York City   AMER        Phillips 66   Energy   \n",
       "3 2021-10-11        Germany      Stuttgart   EMEA  Royal Dutch Shell   Energy   \n",
       "4 2021-10-11        Germany      Stuttgart   EMEA  Royal Dutch Shell   Energy   \n",
       "\n",
       "                  Product     Sales  Quantity  Discount    Profit  \\\n",
       "0         Marketing Suite  261.9600         2      0.00   41.9136   \n",
       "1              FinanceHub  731.9400         3      0.00  219.5820   \n",
       "2              FinanceHub   14.6200         2      0.00    6.8714   \n",
       "3          ContactMatcher  957.5775         5      0.45 -383.0310   \n",
       "4  Marketing Suite - Gold   22.3680         2      0.20    2.5164   \n",
       "\n",
       "   Selling Price  Cost Price  \n",
       "0         130.98   110.02320  \n",
       "1         243.98   170.78600  \n",
       "2           7.31     3.87430  \n",
       "3         348.21   487.49400  \n",
       "4          13.98    12.40725  "
      ]
     },
     "execution_count": 19,
     "metadata": {},
     "output_type": "execute_result"
    }
   ],
   "source": [
    "df.head(5)"
   ]
  },
  {
   "cell_type": "markdown",
   "metadata": {},
   "source": [
    "I added two columns with different values to the DataFrame, one for *Selling Price* and the other for *Cost Price*."
   ]
  },
  {
   "cell_type": "markdown",
   "metadata": {},
   "source": [
    "### ContactMatcher giving A LOT OF NEGATIVE PROFIT?"
   ]
  },
  {
   "cell_type": "markdown",
   "metadata": {},
   "source": [
    "After adding the columns, I discovered that one of the **ContactMatcher** transactions resulted in a **negative profit** due to **the product being sold well BELOW the cost price**. To further ascertain whether we will delve deeper into analyzing ContactMatcher sales, I will examine transactions with negative profits"
   ]
  },
  {
   "cell_type": "code",
   "execution_count": 20,
   "metadata": {},
   "outputs": [
    {
     "data": {
      "text/html": [
       "<div>\n",
       "<style scoped>\n",
       "    .dataframe tbody tr th:only-of-type {\n",
       "        vertical-align: middle;\n",
       "    }\n",
       "\n",
       "    .dataframe tbody tr th {\n",
       "        vertical-align: top;\n",
       "    }\n",
       "\n",
       "    .dataframe thead th {\n",
       "        text-align: right;\n",
       "    }\n",
       "</style>\n",
       "<table border=\"1\" class=\"dataframe\">\n",
       "  <thead>\n",
       "    <tr style=\"text-align: right;\">\n",
       "      <th></th>\n",
       "      <th>Order Date</th>\n",
       "      <th>Country</th>\n",
       "      <th>City</th>\n",
       "      <th>Region</th>\n",
       "      <th>Customer</th>\n",
       "      <th>Industry</th>\n",
       "      <th>Product</th>\n",
       "      <th>Sales</th>\n",
       "      <th>Quantity</th>\n",
       "      <th>Discount</th>\n",
       "      <th>Profit</th>\n",
       "      <th>Selling Price</th>\n",
       "      <th>Cost Price</th>\n",
       "    </tr>\n",
       "  </thead>\n",
       "  <tbody>\n",
       "    <tr>\n",
       "      <th>3</th>\n",
       "      <td>2021-10-11</td>\n",
       "      <td>Germany</td>\n",
       "      <td>Stuttgart</td>\n",
       "      <td>EMEA</td>\n",
       "      <td>Royal Dutch Shell</td>\n",
       "      <td>Energy</td>\n",
       "      <td>ContactMatcher</td>\n",
       "      <td>957.5775</td>\n",
       "      <td>5</td>\n",
       "      <td>0.45</td>\n",
       "      <td>-383.031</td>\n",
       "      <td>348.21</td>\n",
       "      <td>487.494</td>\n",
       "    </tr>\n",
       "  </tbody>\n",
       "</table>\n",
       "</div>"
      ],
      "text/plain": [
       "  Order Date  Country       City Region           Customer Industry  \\\n",
       "3 2021-10-11  Germany  Stuttgart   EMEA  Royal Dutch Shell   Energy   \n",
       "\n",
       "          Product     Sales  Quantity  Discount   Profit  Selling Price  \\\n",
       "3  ContactMatcher  957.5775         5      0.45 -383.031         348.21   \n",
       "\n",
       "   Cost Price  \n",
       "3     487.494  "
      ]
     },
     "execution_count": 20,
     "metadata": {},
     "output_type": "execute_result"
    }
   ],
   "source": [
    "df_minus = df[df['Profit'] < 0]\n",
    "df_minus.head(1)"
   ]
  },
  {
   "cell_type": "code",
   "execution_count": 21,
   "metadata": {},
   "outputs": [
    {
     "data": {
      "text/plain": [
       "Product\n",
       "ContactMatcher            816\n",
       "FinanceHub                235\n",
       "SaaS Connector Pack       167\n",
       "Marketing Suite - Gold    161\n",
       "Site Analytics            136\n",
       "Marketing Suite           109\n",
       "Data Smasher               91\n",
       "OneView                    67\n",
       "Big Ol Database            44\n",
       "Support                    33\n",
       "Storage                    12\n",
       "Name: count, dtype: int64"
      ]
     },
     "execution_count": 21,
     "metadata": {},
     "output_type": "execute_result"
    }
   ],
   "source": [
    "product_counts_minus = df_minus['Product'].value_counts()\n",
    "product_counts_minus"
   ]
  },
  {
   "cell_type": "markdown",
   "metadata": {},
   "source": [
    "**Product Sold with Negative Profit**"
   ]
  },
  {
   "cell_type": "code",
   "execution_count": 22,
   "metadata": {},
   "outputs": [
    {
     "data": {
      "image/png": "[encoded data removed]",
      "text/plain": [
       "<Figure size 1000x600 with 1 Axes>"
      ]
     },
     "metadata": {},
     "output_type": "display_data"
    }
   ],
   "source": [
    "plt.figure(figsize=(10, 6))\n",
    "sns.countplot(y='Product', data=df_minus, order=product_counts_minus.index)\n",
    "\n",
    "for index, value in enumerate(product_counts_minus):\n",
    "    plt.text(value + 1, index, str(value), va='center')  # add count information beside bar\n",
    "\n",
    "plt.xlabel('Count')\n",
    "plt.ylabel('Product')\n",
    "plt.title('Product Count')\n",
    "plt.show()"
   ]
  },
  {
   "cell_type": "markdown",
   "metadata": {},
   "source": [
    "After reviewing transactions with negative profit values, it appears that **ContactMatcher**, which had the highest sales, also occupies the top position with the **highest negative profit** value. However, Alchemy does not have any negative profit values at all."
   ]
  },
  {
   "cell_type": "markdown",
   "metadata": {},
   "source": [
    "    Focus on ContactMatcher with Negative Profit"
   ]
  },
  {
   "cell_type": "markdown",
   "metadata": {},
   "source": [
    "Actually, if we look at the overall profit data, ContactMatcher still maintains a small profit. However, when examined more specifically, there are more instances where the profit is negative. From this, we can infer that **the discounts provided might be a contributing factor**."
   ]
  },
  {
   "cell_type": "code",
   "execution_count": 23,
   "metadata": {},
   "outputs": [
    {
     "data": {
      "text/html": [
       "<div>\n",
       "<style scoped>\n",
       "    .dataframe tbody tr th:only-of-type {\n",
       "        vertical-align: middle;\n",
       "    }\n",
       "\n",
       "    .dataframe tbody tr th {\n",
       "        vertical-align: top;\n",
       "    }\n",
       "\n",
       "    .dataframe thead th {\n",
       "        text-align: right;\n",
       "    }\n",
       "</style>\n",
       "<table border=\"1\" class=\"dataframe\">\n",
       "  <thead>\n",
       "    <tr style=\"text-align: right;\">\n",
       "      <th></th>\n",
       "      <th>Customer</th>\n",
       "      <th>Industry</th>\n",
       "      <th>Region</th>\n",
       "      <th>Country</th>\n",
       "      <th>Sales</th>\n",
       "      <th>Profit</th>\n",
       "      <th>Quantity</th>\n",
       "      <th>Cost Price</th>\n",
       "      <th>Discount</th>\n",
       "      <th>Selling Price</th>\n",
       "    </tr>\n",
       "  </thead>\n",
       "  <tbody>\n",
       "    <tr>\n",
       "      <th>3</th>\n",
       "      <td>Royal Dutch Shell</td>\n",
       "      <td>Energy</td>\n",
       "      <td>EMEA</td>\n",
       "      <td>Germany</td>\n",
       "      <td>957.5775</td>\n",
       "      <td>-383.0310</td>\n",
       "      <td>5</td>\n",
       "      <td>487.494000</td>\n",
       "      <td>0.45</td>\n",
       "      <td>348.21</td>\n",
       "    </tr>\n",
       "    <tr>\n",
       "      <th>15</th>\n",
       "      <td>Pfizer</td>\n",
       "      <td>Healthcare</td>\n",
       "      <td>APJ</td>\n",
       "      <td>Japan</td>\n",
       "      <td>2.5440</td>\n",
       "      <td>-3.8160</td>\n",
       "      <td>3</td>\n",
       "      <td>10.600000</td>\n",
       "      <td>0.80</td>\n",
       "      <td>4.24</td>\n",
       "    </tr>\n",
       "    <tr>\n",
       "      <th>28</th>\n",
       "      <td>Intel</td>\n",
       "      <td>Tech</td>\n",
       "      <td>EMEA</td>\n",
       "      <td>France</td>\n",
       "      <td>9.6180</td>\n",
       "      <td>-7.0532</td>\n",
       "      <td>2</td>\n",
       "      <td>27.785333</td>\n",
       "      <td>0.70</td>\n",
       "      <td>16.03</td>\n",
       "    </tr>\n",
       "    <tr>\n",
       "      <th>32</th>\n",
       "      <td>Intel</td>\n",
       "      <td>Tech</td>\n",
       "      <td>EMEA</td>\n",
       "      <td>France</td>\n",
       "      <td>6.8580</td>\n",
       "      <td>-5.7150</td>\n",
       "      <td>6</td>\n",
       "      <td>6.985000</td>\n",
       "      <td>0.70</td>\n",
       "      <td>3.81</td>\n",
       "    </tr>\n",
       "    <tr>\n",
       "      <th>75</th>\n",
       "      <td>Nissan Motor</td>\n",
       "      <td>Transportation</td>\n",
       "      <td>APJ</td>\n",
       "      <td>Japan</td>\n",
       "      <td>1.2480</td>\n",
       "      <td>-1.9344</td>\n",
       "      <td>3</td>\n",
       "      <td>5.304000</td>\n",
       "      <td>0.80</td>\n",
       "      <td>2.08</td>\n",
       "    </tr>\n",
       "    <tr>\n",
       "      <th>95</th>\n",
       "      <td>Walgreens</td>\n",
       "      <td>Retail</td>\n",
       "      <td>EMEA</td>\n",
       "      <td>Belgium</td>\n",
       "      <td>5.6820</td>\n",
       "      <td>-3.7880</td>\n",
       "      <td>1</td>\n",
       "      <td>31.566667</td>\n",
       "      <td>0.70</td>\n",
       "      <td>18.94</td>\n",
       "    </tr>\n",
       "    <tr>\n",
       "      <th>101</th>\n",
       "      <td>Philip Morris International</td>\n",
       "      <td>Consumer Products</td>\n",
       "      <td>APJ</td>\n",
       "      <td>Australia</td>\n",
       "      <td>1.7880</td>\n",
       "      <td>-3.0396</td>\n",
       "      <td>3</td>\n",
       "      <td>8.046000</td>\n",
       "      <td>0.80</td>\n",
       "      <td>2.98</td>\n",
       "    </tr>\n",
       "    <tr>\n",
       "      <th>105</th>\n",
       "      <td>Walmart</td>\n",
       "      <td>Retail</td>\n",
       "      <td>EMEA</td>\n",
       "      <td>Russia</td>\n",
       "      <td>36.8820</td>\n",
       "      <td>-25.8174</td>\n",
       "      <td>3</td>\n",
       "      <td>69.666000</td>\n",
       "      <td>0.70</td>\n",
       "      <td>40.98</td>\n",
       "    </tr>\n",
       "    <tr>\n",
       "      <th>118</th>\n",
       "      <td>Gazprom</td>\n",
       "      <td>Energy</td>\n",
       "      <td>EMEA</td>\n",
       "      <td>South Africa</td>\n",
       "      <td>157.7940</td>\n",
       "      <td>-115.7156</td>\n",
       "      <td>1</td>\n",
       "      <td>911.698667</td>\n",
       "      <td>0.70</td>\n",
       "      <td>525.98</td>\n",
       "    </tr>\n",
       "    <tr>\n",
       "      <th>125</th>\n",
       "      <td>Tesco</td>\n",
       "      <td>Retail</td>\n",
       "      <td>APJ</td>\n",
       "      <td>Australia</td>\n",
       "      <td>617.7000</td>\n",
       "      <td>-407.6820</td>\n",
       "      <td>6</td>\n",
       "      <td>341.794000</td>\n",
       "      <td>0.50</td>\n",
       "      <td>205.90</td>\n",
       "    </tr>\n",
       "  </tbody>\n",
       "</table>\n",
       "</div>"
      ],
      "text/plain": [
       "                        Customer           Industry Region       Country  \\\n",
       "3              Royal Dutch Shell             Energy   EMEA       Germany   \n",
       "15                        Pfizer         Healthcare    APJ         Japan   \n",
       "28                         Intel               Tech   EMEA        France   \n",
       "32                         Intel               Tech   EMEA        France   \n",
       "75                  Nissan Motor     Transportation    APJ         Japan   \n",
       "95                     Walgreens             Retail   EMEA       Belgium   \n",
       "101  Philip Morris International  Consumer Products    APJ     Australia   \n",
       "105                      Walmart             Retail   EMEA        Russia   \n",
       "118                      Gazprom             Energy   EMEA  South Africa   \n",
       "125                        Tesco             Retail    APJ     Australia   \n",
       "\n",
       "        Sales    Profit  Quantity  Cost Price  Discount  Selling Price  \n",
       "3    957.5775 -383.0310         5  487.494000      0.45         348.21  \n",
       "15     2.5440   -3.8160         3   10.600000      0.80           4.24  \n",
       "28     9.6180   -7.0532         2   27.785333      0.70          16.03  \n",
       "32     6.8580   -5.7150         6    6.985000      0.70           3.81  \n",
       "75     1.2480   -1.9344         3    5.304000      0.80           2.08  \n",
       "95     5.6820   -3.7880         1   31.566667      0.70          18.94  \n",
       "101    1.7880   -3.0396         3    8.046000      0.80           2.98  \n",
       "105   36.8820  -25.8174         3   69.666000      0.70          40.98  \n",
       "118  157.7940 -115.7156         1  911.698667      0.70         525.98  \n",
       "125  617.7000 -407.6820         6  341.794000      0.50         205.90  "
      ]
     },
     "execution_count": 23,
     "metadata": {},
     "output_type": "execute_result"
    }
   ],
   "source": [
    "contactmatcher_minus = df[(df['Product'] == 'ContactMatcher') & (df['Profit'] < 0) ]\n",
    "contactmatcher_minus = contactmatcher_minus[['Customer','Industry','Region', 'Country', 'Sales', 'Profit','Quantity', 'Cost Price', 'Discount','Selling Price']]\n",
    "contactmatcher_minus.head(10)"
   ]
  },
  {
   "cell_type": "markdown",
   "metadata": {},
   "source": [
    "**Calculate the total amount of discounts given**"
   ]
  },
  {
   "cell_type": "markdown",
   "metadata": {},
   "source": [
    "From the above data, we can observe a significant number of high discounts being offered. To ascertain the quantity, I computed the discount levels ranging from 10% to 80%, with increments of 10% for each assessment. I identified two specific discount levels that have the highest occurrence and correspondingly substantial discount values. Consequently, **I recommend considering a reduction in the discount range to 30-50%** as a measure to mitigate the occurrence of negative profit impacts."
   ]
  },
  {
   "cell_type": "code",
   "execution_count": 24,
   "metadata": {},
   "outputs": [
    {
     "name": "stdout",
     "output_type": "stream",
     "text": [
      "Jumlah diskon 80% yang diberikan: 233\n",
      "Jumlah diskon 70% yang diberikan: 380\n"
     ]
    }
   ],
   "source": [
    "discount_count_80 = contactmatcher_minus[contactmatcher_minus['Discount'] == 0.8].shape[0]\n",
    "discount_count_70 = contactmatcher_minus[contactmatcher_minus['Discount'] == 0.7].shape[0]\n",
    "print(\"Jumlah diskon 80% yang diberikan:\", discount_count_80)\n",
    "print(\"Jumlah diskon 70% yang diberikan:\", discount_count_70)"
   ]
  },
  {
   "cell_type": "markdown",
   "metadata": {},
   "source": [
    "### 5 Customers for ContactMatcher Transaction with the highest negative profit"
   ]
  },
  {
   "cell_type": "markdown",
   "metadata": {},
   "source": [
    "For a more specific focus on the discounts provided, I am analyzing which **customers have generated the lowest total profit**"
   ]
  },
  {
   "cell_type": "code",
   "execution_count": 25,
   "metadata": {},
   "outputs": [
    {
     "data": {
      "text/html": [
       "<div>\n",
       "<style scoped>\n",
       "    .dataframe tbody tr th:only-of-type {\n",
       "        vertical-align: middle;\n",
       "    }\n",
       "\n",
       "    .dataframe tbody tr th {\n",
       "        vertical-align: top;\n",
       "    }\n",
       "\n",
       "    .dataframe thead th {\n",
       "        text-align: right;\n",
       "    }\n",
       "</style>\n",
       "<table border=\"1\" class=\"dataframe\">\n",
       "  <thead>\n",
       "    <tr style=\"text-align: right;\">\n",
       "      <th></th>\n",
       "      <th>Customer</th>\n",
       "      <th>Country</th>\n",
       "      <th>Region</th>\n",
       "      <th>Profit</th>\n",
       "      <th>Discount</th>\n",
       "      <th>Sales</th>\n",
       "      <th>Quantity</th>\n",
       "    </tr>\n",
       "  </thead>\n",
       "  <tbody>\n",
       "    <tr>\n",
       "      <th>9774</th>\n",
       "      <td>Bosch</td>\n",
       "      <td>Japan</td>\n",
       "      <td>APJ</td>\n",
       "      <td>-3701.8928</td>\n",
       "      <td>0.8</td>\n",
       "      <td>2177.584</td>\n",
       "      <td>8</td>\n",
       "    </tr>\n",
       "    <tr>\n",
       "      <th>4991</th>\n",
       "      <td>Ford Motor</td>\n",
       "      <td>Australia</td>\n",
       "      <td>APJ</td>\n",
       "      <td>-2929.4845</td>\n",
       "      <td>0.8</td>\n",
       "      <td>1889.990</td>\n",
       "      <td>5</td>\n",
       "    </tr>\n",
       "    <tr>\n",
       "      <th>5310</th>\n",
       "      <td>Itochu</td>\n",
       "      <td>Japan</td>\n",
       "      <td>APJ</td>\n",
       "      <td>-2287.7820</td>\n",
       "      <td>0.8</td>\n",
       "      <td>1525.188</td>\n",
       "      <td>6</td>\n",
       "    </tr>\n",
       "    <tr>\n",
       "      <th>9639</th>\n",
       "      <td>Morgan Stanley</td>\n",
       "      <td>Sweden</td>\n",
       "      <td>EMEA</td>\n",
       "      <td>-1862.3124</td>\n",
       "      <td>0.4</td>\n",
       "      <td>4297.644</td>\n",
       "      <td>13</td>\n",
       "    </tr>\n",
       "    <tr>\n",
       "      <th>1199</th>\n",
       "      <td>Volkswagen</td>\n",
       "      <td>Japan</td>\n",
       "      <td>APJ</td>\n",
       "      <td>-1850.9464</td>\n",
       "      <td>0.8</td>\n",
       "      <td>1088.792</td>\n",
       "      <td>4</td>\n",
       "    </tr>\n",
       "  </tbody>\n",
       "</table>\n",
       "</div>"
      ],
      "text/plain": [
       "            Customer    Country Region     Profit  Discount     Sales  \\\n",
       "9774           Bosch      Japan    APJ -3701.8928       0.8  2177.584   \n",
       "4991      Ford Motor  Australia    APJ -2929.4845       0.8  1889.990   \n",
       "5310          Itochu      Japan    APJ -2287.7820       0.8  1525.188   \n",
       "9639  Morgan Stanley     Sweden   EMEA -1862.3124       0.4  4297.644   \n",
       "1199      Volkswagen      Japan    APJ -1850.9464       0.8  1088.792   \n",
       "\n",
       "      Quantity  \n",
       "9774         8  \n",
       "4991         5  \n",
       "5310         6  \n",
       "9639        13  \n",
       "1199         4  "
      ]
     },
     "execution_count": 25,
     "metadata": {},
     "output_type": "execute_result"
    }
   ],
   "source": [
    "highest_cm_minus = contactmatcher_minus[['Customer','Country','Region','Profit','Discount','Sales','Quantity']].sort_values(by='Profit').head(5)\n",
    "highest_cm_minus"
   ]
  },
  {
   "cell_type": "code",
   "execution_count": 26,
   "metadata": {},
   "outputs": [
    {
     "name": "stderr",
     "output_type": "stream",
     "text": [
      "C:\\Users\\Erra Anggi Tarigan\\AppData\\Local\\Temp\\ipykernel_7536\\2202366409.py:14: UserWarning: FixedFormatter should only be used together with FixedLocator\n",
      "  axes[0].set_xticklabels(axes[0].get_xticks(), fontsize=15)\n",
      "C:\\Users\\Erra Anggi Tarigan\\AppData\\Local\\Temp\\ipykernel_7536\\2202366409.py:18: UserWarning: FixedFormatter should only be used together with FixedLocator\n",
      "  axes[1].set_xticklabels(axes[1].get_xticks(), fontsize=12) # set the size of range of number\n"
     ]
    },
    {
     "data": {
      "image/png": "[encoded data removed]",
      "text/plain": [
       "<Figure size 1700x1200 with 2 Axes>"
      ]
     },
     "metadata": {},
     "output_type": "display_data"
    }
   ],
   "source": [
    "figure, axes = plt.subplots(1, 2, figsize=(17,12))\n",
    "# top 3 quantity\n",
    "top_qty = highest_cm_minus.nlargest(3, 'Quantity')['Customer'].tolist()\n",
    "# 3 lowest customer with negative profit\n",
    "lowest_prof = highest_cm_minus.nsmallest(3, 'Profit')['Customer'].tolist()\n",
    "# different color for top 3 qty\n",
    "colors_top = ['skyblue' if customer not in top_qty else 'teal' for customer in highest_cm_minus['Customer']]\n",
    "colors_low = ['skyblue' if customer not in lowest_prof else 'teal' for customer in highest_cm_minus['Customer']]\n",
    "\n",
    "sns.barplot(data=highest_cm_minus, x='Quantity', y='Customer', ax=axes[0], estimator=sum, palette=colors_top, width=0.5) # width = bar size\n",
    "axes[0].set_title('ContactMatcher Product Solds with Negative Profit by Customer', fontsize=17)\n",
    "for i, value in enumerate(highest_cm_minus['Quantity']):\n",
    "    axes[0].text(value + -0.75, i, f'{value}', va='center', fontsize=15)\n",
    "    axes[0].set_xticklabels(axes[0].get_xticks(), fontsize=15)\n",
    "sns.barplot(data=highest_cm_minus, x='Profit', y='Customer', ax=axes[1], estimator=sum, palette=colors_low, width=0.5)\n",
    "for i, value in enumerate(highest_cm_minus['Profit']):\n",
    "    axes[1].text(value + 1, i, f'{value}', va='center', fontsize=15) # amount of number in bar\n",
    "    axes[1].set_xticklabels(axes[1].get_xticks(), fontsize=12) # set the size of range of number\n",
    "axes[1].set_title('ContactMatcher Negative Profits by Customer', fontsize=17)\n",
    "\n",
    "plt.subplots_adjust(wspace=0.4)  \n",
    "\n",
    "for tick in axes[0].get_yticklabels():\n",
    "    tick.set_fontsize(15)\n",
    "for tick in axes[1].get_yticklabels():\n",
    "    tick.set_fontsize(15)     \n",
    "plt.show()"
   ]
  },
  {
   "cell_type": "markdown",
   "metadata": {},
   "source": [
    "##### Bar Chart on the Left \n",
    "Based on the data above, our first focus is on the quantity of products purchased by customers with negative profit. We'll consider the top 3: Morgan Stanley, Bosh, and Itochu. **I recommend adjusting the discounts from 10-40%, especially since some discounts are as high as 80%**. If the intention behind offering discounts was to attract customers, it has already had an impact. It is now time to shift the focus towards profitability by reducing these discount levels.\n",
    "##### Bar Chart on the Right\n",
    "Moving on to our second focus, the graph on the right illustrates customers with the largest negative profits. Bosch holds the top spot, followed by Ford Motor and Itochu. **We can emphasize to Bosch** the importance of **reducing their discount**. While the loss values for the other two customers aren't significantly different, **reducing their discounts could collectively decrease the overall loss incurred**."
   ]
  },
  {
   "cell_type": "markdown",
   "metadata": {},
   "source": [
    "### Number of Transaction vs Lowest Profit based on Customers of ContactMatcher"
   ]
  },
  {
   "cell_type": "markdown",
   "metadata": {},
   "source": [
    "**ContactMatcher Sales and Profit based on Region**"
   ]
  },
  {
   "cell_type": "code",
   "execution_count": 27,
   "metadata": {},
   "outputs": [
    {
     "data": {
      "text/html": [
       "<div>\n",
       "<style scoped>\n",
       "    .dataframe tbody tr th:only-of-type {\n",
       "        vertical-align: middle;\n",
       "    }\n",
       "\n",
       "    .dataframe tbody tr th {\n",
       "        vertical-align: top;\n",
       "    }\n",
       "\n",
       "    .dataframe thead th {\n",
       "        text-align: right;\n",
       "    }\n",
       "</style>\n",
       "<table border=\"1\" class=\"dataframe\">\n",
       "  <thead>\n",
       "    <tr style=\"text-align: right;\">\n",
       "      <th></th>\n",
       "      <th>Region</th>\n",
       "      <th>Sales</th>\n",
       "      <th>Profit</th>\n",
       "    </tr>\n",
       "  </thead>\n",
       "  <tbody>\n",
       "    <tr>\n",
       "      <th>0</th>\n",
       "      <td>AMER</td>\n",
       "      <td>667</td>\n",
       "      <td>26663.9591</td>\n",
       "    </tr>\n",
       "    <tr>\n",
       "      <th>1</th>\n",
       "      <td>APJ</td>\n",
       "      <td>394</td>\n",
       "      <td>-21583.6618</td>\n",
       "    </tr>\n",
       "    <tr>\n",
       "      <th>2</th>\n",
       "      <td>EMEA</td>\n",
       "      <td>781</td>\n",
       "      <td>7415.9849</td>\n",
       "    </tr>\n",
       "  </tbody>\n",
       "</table>\n",
       "</div>"
      ],
      "text/plain": [
       "  Region  Sales      Profit\n",
       "0   AMER    667  26663.9591\n",
       "1    APJ    394 -21583.6618\n",
       "2   EMEA    781   7415.9849"
      ]
     },
     "execution_count": 27,
     "metadata": {},
     "output_type": "execute_result"
    }
   ],
   "source": [
    "contactmatcher_region = df[df['Product'] == 'ContactMatcher']\n",
    "contactmatcher_region = contactmatcher_region.groupby('Region').agg({'Sales':'count','Profit': 'sum'}).reset_index()\n",
    "contactmatcher_region"
   ]
  },
  {
   "cell_type": "code",
   "execution_count": 28,
   "metadata": {},
   "outputs": [
    {
     "data": {
      "image/png": "[encoded data removed]",
      "text/plain": [
       "<Figure size 1800x600 with 2 Axes>"
      ]
     },
     "metadata": {},
     "output_type": "display_data"
    }
   ],
   "source": [
    "figure, axes = plt.subplots(1, 2, figsize=(18,6))\n",
    "sns.barplot(data=contactmatcher_region, x='Sales', y='Region', ax=axes[0])\n",
    "axes[0].set_title('Number of Transaction by Region')\n",
    "sns.barplot(data=contactmatcher_region, x='Profit', y='Region', ax=axes[1])\n",
    "axes[1].set_title('Profit by Region')\n",
    "plt.show()"
   ]
  },
  {
   "cell_type": "markdown",
   "metadata": {},
   "source": [
    "AMER, EMEA, and APJ are abbreviations for three geographical regions used in international business and marketing contexts.\n",
    "\n",
    "1. AMER: AMER stands for Americas, which includes North America, Central America, and South America. This region encompasses countries such as the United States, Canada, Mexico, Brazil, Argentina, and others.\n",
    "\n",
    "2. EMEA: EMEA stands for Europe, Middle East, and Africa. This region includes countries in Europe, the Middle East, and Africa. Some countries included in this region are the United Kingdom, Germany, France, Saudi Arabia, United Arab Emirates, South Africa, and others.\n",
    "\n",
    "3. APJ: APJ stands for Asia Pacific and Japan. This region includes countries in East Asia, Southeast Asia, and Oceania. Some countries included in this region are Japan, China, India, Australia, Singapore, Indonesia, and others.\n",
    "\n",
    "These regional divisions are often used by multinational companies to organize their business and marketing strategies, as well as to facilitate operational management across different geographical areas."
   ]
  },
  {
   "cell_type": "markdown",
   "metadata": {},
   "source": [
    "## APJ Region result the LOWEST PROFIT in transactions for ContactMatcher"
   ]
  },
  {
   "cell_type": "code",
   "execution_count": 29,
   "metadata": {},
   "outputs": [
    {
     "data": {
      "text/html": [
       "<div>\n",
       "<style scoped>\n",
       "    .dataframe tbody tr th:only-of-type {\n",
       "        vertical-align: middle;\n",
       "    }\n",
       "\n",
       "    .dataframe tbody tr th {\n",
       "        vertical-align: top;\n",
       "    }\n",
       "\n",
       "    .dataframe thead th {\n",
       "        text-align: right;\n",
       "    }\n",
       "</style>\n",
       "<table border=\"1\" class=\"dataframe\">\n",
       "  <thead>\n",
       "    <tr style=\"text-align: right;\">\n",
       "      <th></th>\n",
       "      <th>Customer</th>\n",
       "      <th>Industry</th>\n",
       "      <th>Region</th>\n",
       "      <th>Country</th>\n",
       "      <th>Sales</th>\n",
       "      <th>Profit</th>\n",
       "      <th>Quantity</th>\n",
       "      <th>Cost Price</th>\n",
       "      <th>Discount</th>\n",
       "      <th>Selling Price</th>\n",
       "    </tr>\n",
       "  </thead>\n",
       "  <tbody>\n",
       "    <tr>\n",
       "      <th>15</th>\n",
       "      <td>Pfizer</td>\n",
       "      <td>Healthcare</td>\n",
       "      <td>APJ</td>\n",
       "      <td>Japan</td>\n",
       "      <td>2.544</td>\n",
       "      <td>-3.8160</td>\n",
       "      <td>3</td>\n",
       "      <td>10.6000</td>\n",
       "      <td>0.8</td>\n",
       "      <td>4.24</td>\n",
       "    </tr>\n",
       "    <tr>\n",
       "      <th>7548</th>\n",
       "      <td>Huawei</td>\n",
       "      <td>Tech</td>\n",
       "      <td>APJ</td>\n",
       "      <td>Japan</td>\n",
       "      <td>0.898</td>\n",
       "      <td>-1.5715</td>\n",
       "      <td>1</td>\n",
       "      <td>12.3475</td>\n",
       "      <td>0.8</td>\n",
       "      <td>4.49</td>\n",
       "    </tr>\n",
       "    <tr>\n",
       "      <th>6300</th>\n",
       "      <td>Petrobras</td>\n",
       "      <td>Energy</td>\n",
       "      <td>APJ</td>\n",
       "      <td>Australia</td>\n",
       "      <td>24.588</td>\n",
       "      <td>-38.1114</td>\n",
       "      <td>3</td>\n",
       "      <td>104.4990</td>\n",
       "      <td>0.8</td>\n",
       "      <td>40.98</td>\n",
       "    </tr>\n",
       "    <tr>\n",
       "      <th>6262</th>\n",
       "      <td>Amazon</td>\n",
       "      <td>Tech</td>\n",
       "      <td>APJ</td>\n",
       "      <td>Australia</td>\n",
       "      <td>442.372</td>\n",
       "      <td>-729.9138</td>\n",
       "      <td>7</td>\n",
       "      <td>837.3470</td>\n",
       "      <td>0.8</td>\n",
       "      <td>315.98</td>\n",
       "    </tr>\n",
       "    <tr>\n",
       "      <th>6193</th>\n",
       "      <td>Costco Wholesale</td>\n",
       "      <td>Retail</td>\n",
       "      <td>APJ</td>\n",
       "      <td>Japan</td>\n",
       "      <td>6.330</td>\n",
       "      <td>-9.8115</td>\n",
       "      <td>5</td>\n",
       "      <td>16.1415</td>\n",
       "      <td>0.8</td>\n",
       "      <td>6.33</td>\n",
       "    </tr>\n",
       "    <tr>\n",
       "      <th>6109</th>\n",
       "      <td>Morgan Stanley</td>\n",
       "      <td>Finance</td>\n",
       "      <td>APJ</td>\n",
       "      <td>Australia</td>\n",
       "      <td>1.908</td>\n",
       "      <td>-3.2436</td>\n",
       "      <td>3</td>\n",
       "      <td>8.5860</td>\n",
       "      <td>0.8</td>\n",
       "      <td>3.18</td>\n",
       "    </tr>\n",
       "    <tr>\n",
       "      <th>6086</th>\n",
       "      <td>Nestle</td>\n",
       "      <td>Consumer Products</td>\n",
       "      <td>APJ</td>\n",
       "      <td>Japan</td>\n",
       "      <td>4.488</td>\n",
       "      <td>-6.7320</td>\n",
       "      <td>6</td>\n",
       "      <td>9.3500</td>\n",
       "      <td>0.8</td>\n",
       "      <td>3.74</td>\n",
       "    </tr>\n",
       "    <tr>\n",
       "      <th>6082</th>\n",
       "      <td>Nestle</td>\n",
       "      <td>Consumer Products</td>\n",
       "      <td>APJ</td>\n",
       "      <td>Japan</td>\n",
       "      <td>6.216</td>\n",
       "      <td>-9.6348</td>\n",
       "      <td>6</td>\n",
       "      <td>13.2090</td>\n",
       "      <td>0.8</td>\n",
       "      <td>5.18</td>\n",
       "    </tr>\n",
       "    <tr>\n",
       "      <th>6055</th>\n",
       "      <td>Walgreens</td>\n",
       "      <td>Retail</td>\n",
       "      <td>APJ</td>\n",
       "      <td>Japan</td>\n",
       "      <td>2.068</td>\n",
       "      <td>-3.4122</td>\n",
       "      <td>1</td>\n",
       "      <td>27.4010</td>\n",
       "      <td>0.8</td>\n",
       "      <td>10.34</td>\n",
       "    </tr>\n",
       "    <tr>\n",
       "      <th>6035</th>\n",
       "      <td>Lowes</td>\n",
       "      <td>Retail</td>\n",
       "      <td>APJ</td>\n",
       "      <td>Japan</td>\n",
       "      <td>310.392</td>\n",
       "      <td>-512.1468</td>\n",
       "      <td>4</td>\n",
       "      <td>1028.1735</td>\n",
       "      <td>0.8</td>\n",
       "      <td>387.99</td>\n",
       "    </tr>\n",
       "  </tbody>\n",
       "</table>\n",
       "</div>"
      ],
      "text/plain": [
       "              Customer           Industry Region    Country    Sales  \\\n",
       "15              Pfizer         Healthcare    APJ      Japan    2.544   \n",
       "7548            Huawei               Tech    APJ      Japan    0.898   \n",
       "6300         Petrobras             Energy    APJ  Australia   24.588   \n",
       "6262            Amazon               Tech    APJ  Australia  442.372   \n",
       "6193  Costco Wholesale             Retail    APJ      Japan    6.330   \n",
       "6109    Morgan Stanley            Finance    APJ  Australia    1.908   \n",
       "6086            Nestle  Consumer Products    APJ      Japan    4.488   \n",
       "6082            Nestle  Consumer Products    APJ      Japan    6.216   \n",
       "6055         Walgreens             Retail    APJ      Japan    2.068   \n",
       "6035             Lowes             Retail    APJ      Japan  310.392   \n",
       "\n",
       "        Profit  Quantity  Cost Price  Discount  Selling Price  \n",
       "15     -3.8160         3     10.6000       0.8           4.24  \n",
       "7548   -1.5715         1     12.3475       0.8           4.49  \n",
       "6300  -38.1114         3    104.4990       0.8          40.98  \n",
       "6262 -729.9138         7    837.3470       0.8         315.98  \n",
       "6193   -9.8115         5     16.1415       0.8           6.33  \n",
       "6109   -3.2436         3      8.5860       0.8           3.18  \n",
       "6086   -6.7320         6      9.3500       0.8           3.74  \n",
       "6082   -9.6348         6     13.2090       0.8           5.18  \n",
       "6055   -3.4122         1     27.4010       0.8          10.34  \n",
       "6035 -512.1468         4   1028.1735       0.8         387.99  "
      ]
     },
     "execution_count": 29,
     "metadata": {},
     "output_type": "execute_result"
    }
   ],
   "source": [
    "contactmatcher_apj = df[(df['Product'] == 'ContactMatcher') & (df['Region'] == 'APJ') ]\n",
    "contactmatcher_apj = contactmatcher_apj[['Customer','Industry','Region', 'Country', 'Sales', 'Profit','Quantity', 'Cost Price', 'Discount','Selling Price']]\n",
    "contactmatcher_apj.sort_values(by='Discount', ascending=False).head(10)"
   ]
  },
  {
   "cell_type": "markdown",
   "metadata": {},
   "source": [
    "**Calculate the total amount of discounts given based on APJ Region for ContactMatcher Transactions**"
   ]
  },
  {
   "cell_type": "code",
   "execution_count": 30,
   "metadata": {},
   "outputs": [
    {
     "data": {
      "text/html": [
       "<div>\n",
       "<style scoped>\n",
       "    .dataframe tbody tr th:only-of-type {\n",
       "        vertical-align: middle;\n",
       "    }\n",
       "\n",
       "    .dataframe tbody tr th {\n",
       "        vertical-align: top;\n",
       "    }\n",
       "\n",
       "    .dataframe thead th {\n",
       "        text-align: right;\n",
       "    }\n",
       "</style>\n",
       "<table border=\"1\" class=\"dataframe\">\n",
       "  <thead>\n",
       "    <tr style=\"text-align: right;\">\n",
       "      <th></th>\n",
       "      <th>Discount</th>\n",
       "      <th>count</th>\n",
       "    </tr>\n",
       "  </thead>\n",
       "  <tbody>\n",
       "    <tr>\n",
       "      <th>0</th>\n",
       "      <td>0.8</td>\n",
       "      <td>233</td>\n",
       "    </tr>\n",
       "    <tr>\n",
       "      <th>1</th>\n",
       "      <td>0.0</td>\n",
       "      <td>89</td>\n",
       "    </tr>\n",
       "    <tr>\n",
       "      <th>2</th>\n",
       "      <td>0.3</td>\n",
       "      <td>44</td>\n",
       "    </tr>\n",
       "    <tr>\n",
       "      <th>3</th>\n",
       "      <td>0.5</td>\n",
       "      <td>18</td>\n",
       "    </tr>\n",
       "    <tr>\n",
       "      <th>4</th>\n",
       "      <td>0.2</td>\n",
       "      <td>10</td>\n",
       "    </tr>\n",
       "  </tbody>\n",
       "</table>\n",
       "</div>"
      ],
      "text/plain": [
       "   Discount  count\n",
       "0       0.8    233\n",
       "1       0.0     89\n",
       "2       0.3     44\n",
       "3       0.5     18\n",
       "4       0.2     10"
      ]
     },
     "execution_count": 30,
     "metadata": {},
     "output_type": "execute_result"
    }
   ],
   "source": [
    "percentage_disc_apj_region = contactmatcher_apj['Discount'].value_counts().reset_index()\n",
    "percentage_disc_apj_region"
   ]
  },
  {
   "cell_type": "code",
   "execution_count": 31,
   "metadata": {},
   "outputs": [
    {
     "data": {
      "image/png": "[encoded data removed]",
      "text/plain": [
       "<Figure size 800x600 with 1 Axes>"
      ]
     },
     "metadata": {},
     "output_type": "display_data"
    }
   ],
   "source": [
    "plt.figure(figsize=(8,6))\n",
    "plt.pie(percentage_disc_apj_region['count'],\n",
    "        labels=percentage_disc_apj_region['Discount'],\n",
    "        autopct='%.1f%%',\n",
    "        startangle=90,\n",
    "        counterclock=False\n",
    ")\n",
    "fig = plt.gcf()\n",
    "centre_circle = plt.Circle((0,0),0.85,fc='white')\n",
    "fig.gca().add_artist(centre_circle)\n",
    "plt.axis('equal')\n",
    "plt.title('Sales by Region proportion')\n",
    "plt.show()"
   ]
  },
  {
   "cell_type": "markdown",
   "metadata": {},
   "source": [
    "After the recommendation to reduce discounts on transactions conducted by the company in the range of 70-80%, especially for transactions with negative profits, we now look at the discounts given based on regions. The 80% discount given in the APJ region, specifically for sales of the ContactMatcher product with negative profits, has the same number of transactions. "
   ]
  },
  {
   "cell_type": "code",
   "execution_count": 32,
   "metadata": {},
   "outputs": [
    {
     "name": "stdout",
     "output_type": "stream",
     "text": [
      "Jumlah diskon 80% yang diberikan: 233\n",
      "Jumlah diskon 50% yang diberikan: 18\n",
      "Jumlah diskon 30% yang diberikan: 44\n"
     ]
    }
   ],
   "source": [
    "discount_count_80_apj = contactmatcher_apj[contactmatcher_apj['Discount'] == 0.8].shape[0]\n",
    "discount_count_50_apj = contactmatcher_apj[contactmatcher_apj['Discount'] == 0.5].shape[0]\n",
    "discount_count_30_apj = contactmatcher_apj[contactmatcher_apj['Discount'] == 0.3].shape[0]\n",
    "print(\"Jumlah diskon 80% yang diberikan:\", discount_count_80_apj)\n",
    "print(\"Jumlah diskon 50% yang diberikan:\", discount_count_50_apj)\n",
    "print(\"Jumlah diskon 30% yang diberikan:\", discount_count_30_apj)"
   ]
  },
  {
   "cell_type": "markdown",
   "metadata": {},
   "source": [
    "**Lowering discounts on ContactMatcher transactions based on the APJ region**"
   ]
  },
  {
   "cell_type": "markdown",
   "metadata": {},
   "source": [
    "So, we are shifting our focus to discounts given with different values. After checking one by one, there were no transactions found with a 70% discount, but 50% discount has been applied to 18 transactions. Upon review, it appears that several transactions have purchase quantities that, in my opinion, range from 5 to 8, which are relatively high. **I recommend reducing the discount for transactions with these quantities**."
   ]
  },
  {
   "cell_type": "code",
   "execution_count": 33,
   "metadata": {},
   "outputs": [
    {
     "data": {
      "text/html": [
       "<div>\n",
       "<style scoped>\n",
       "    .dataframe tbody tr th:only-of-type {\n",
       "        vertical-align: middle;\n",
       "    }\n",
       "\n",
       "    .dataframe tbody tr th {\n",
       "        vertical-align: top;\n",
       "    }\n",
       "\n",
       "    .dataframe thead th {\n",
       "        text-align: right;\n",
       "    }\n",
       "</style>\n",
       "<table border=\"1\" class=\"dataframe\">\n",
       "  <thead>\n",
       "    <tr style=\"text-align: right;\">\n",
       "      <th></th>\n",
       "      <th>Customer</th>\n",
       "      <th>Industry</th>\n",
       "      <th>Region</th>\n",
       "      <th>Country</th>\n",
       "      <th>Sales</th>\n",
       "      <th>Profit</th>\n",
       "      <th>Quantity</th>\n",
       "      <th>Cost Price</th>\n",
       "      <th>Discount</th>\n",
       "      <th>Selling Price</th>\n",
       "    </tr>\n",
       "  </thead>\n",
       "  <tbody>\n",
       "    <tr>\n",
       "      <th>1713</th>\n",
       "      <td>HSBC Holdings</td>\n",
       "      <td>Finance</td>\n",
       "      <td>APJ</td>\n",
       "      <td>Australia</td>\n",
       "      <td>765.625</td>\n",
       "      <td>-566.5625</td>\n",
       "      <td>7</td>\n",
       "      <td>380.6250</td>\n",
       "      <td>0.5</td>\n",
       "      <td>218.75</td>\n",
       "    </tr>\n",
       "    <tr>\n",
       "      <th>3519</th>\n",
       "      <td>AmerisourceBergen</td>\n",
       "      <td>Healthcare</td>\n",
       "      <td>APJ</td>\n",
       "      <td>Australia</td>\n",
       "      <td>796.425</td>\n",
       "      <td>-525.6405</td>\n",
       "      <td>7</td>\n",
       "      <td>377.7330</td>\n",
       "      <td>0.5</td>\n",
       "      <td>227.55</td>\n",
       "    </tr>\n",
       "    <tr>\n",
       "      <th>125</th>\n",
       "      <td>Tesco</td>\n",
       "      <td>Retail</td>\n",
       "      <td>APJ</td>\n",
       "      <td>Australia</td>\n",
       "      <td>617.700</td>\n",
       "      <td>-407.6820</td>\n",
       "      <td>6</td>\n",
       "      <td>341.7940</td>\n",
       "      <td>0.5</td>\n",
       "      <td>205.90</td>\n",
       "    </tr>\n",
       "    <tr>\n",
       "      <th>1394</th>\n",
       "      <td>HSBC Holdings</td>\n",
       "      <td>Finance</td>\n",
       "      <td>APJ</td>\n",
       "      <td>Australia</td>\n",
       "      <td>652.450</td>\n",
       "      <td>-430.6170</td>\n",
       "      <td>5</td>\n",
       "      <td>433.2268</td>\n",
       "      <td>0.5</td>\n",
       "      <td>260.98</td>\n",
       "    </tr>\n",
       "    <tr>\n",
       "      <th>5094</th>\n",
       "      <td>Abbott Laboratories</td>\n",
       "      <td>Healthcare</td>\n",
       "      <td>APJ</td>\n",
       "      <td>Australia</td>\n",
       "      <td>214.950</td>\n",
       "      <td>-120.3720</td>\n",
       "      <td>5</td>\n",
       "      <td>134.1288</td>\n",
       "      <td>0.5</td>\n",
       "      <td>85.98</td>\n",
       "    </tr>\n",
       "    <tr>\n",
       "      <th>241</th>\n",
       "      <td>Target</td>\n",
       "      <td>Retail</td>\n",
       "      <td>APJ</td>\n",
       "      <td>Australia</td>\n",
       "      <td>177.225</td>\n",
       "      <td>-120.5130</td>\n",
       "      <td>5</td>\n",
       "      <td>119.0952</td>\n",
       "      <td>0.5</td>\n",
       "      <td>70.89</td>\n",
       "    </tr>\n",
       "    <tr>\n",
       "      <th>7298</th>\n",
       "      <td>Lowes</td>\n",
       "      <td>Retail</td>\n",
       "      <td>APJ</td>\n",
       "      <td>Australia</td>\n",
       "      <td>292.100</td>\n",
       "      <td>-175.2600</td>\n",
       "      <td>4</td>\n",
       "      <td>233.6800</td>\n",
       "      <td>0.5</td>\n",
       "      <td>146.05</td>\n",
       "    </tr>\n",
       "    <tr>\n",
       "      <th>4721</th>\n",
       "      <td>Nestle</td>\n",
       "      <td>Consumer Products</td>\n",
       "      <td>APJ</td>\n",
       "      <td>Australia</td>\n",
       "      <td>268.935</td>\n",
       "      <td>-209.7693</td>\n",
       "      <td>3</td>\n",
       "      <td>319.1362</td>\n",
       "      <td>0.5</td>\n",
       "      <td>179.29</td>\n",
       "    </tr>\n",
       "    <tr>\n",
       "      <th>8926</th>\n",
       "      <td>Aviva</td>\n",
       "      <td>Finance</td>\n",
       "      <td>APJ</td>\n",
       "      <td>Australia</td>\n",
       "      <td>626.100</td>\n",
       "      <td>-538.4460</td>\n",
       "      <td>3</td>\n",
       "      <td>776.3640</td>\n",
       "      <td>0.5</td>\n",
       "      <td>417.40</td>\n",
       "    </tr>\n",
       "    <tr>\n",
       "      <th>5750</th>\n",
       "      <td>Engie</td>\n",
       "      <td>Energy</td>\n",
       "      <td>APJ</td>\n",
       "      <td>Australia</td>\n",
       "      <td>355.455</td>\n",
       "      <td>-184.8366</td>\n",
       "      <td>3</td>\n",
       "      <td>360.1944</td>\n",
       "      <td>0.5</td>\n",
       "      <td>236.97</td>\n",
       "    </tr>\n",
       "  </tbody>\n",
       "</table>\n",
       "</div>"
      ],
      "text/plain": [
       "                 Customer           Industry Region    Country    Sales  \\\n",
       "1713        HSBC Holdings            Finance    APJ  Australia  765.625   \n",
       "3519    AmerisourceBergen         Healthcare    APJ  Australia  796.425   \n",
       "125                 Tesco             Retail    APJ  Australia  617.700   \n",
       "1394        HSBC Holdings            Finance    APJ  Australia  652.450   \n",
       "5094  Abbott Laboratories         Healthcare    APJ  Australia  214.950   \n",
       "241                Target             Retail    APJ  Australia  177.225   \n",
       "7298                Lowes             Retail    APJ  Australia  292.100   \n",
       "4721               Nestle  Consumer Products    APJ  Australia  268.935   \n",
       "8926                Aviva            Finance    APJ  Australia  626.100   \n",
       "5750                Engie             Energy    APJ  Australia  355.455   \n",
       "\n",
       "        Profit  Quantity  Cost Price  Discount  Selling Price  \n",
       "1713 -566.5625         7    380.6250       0.5         218.75  \n",
       "3519 -525.6405         7    377.7330       0.5         227.55  \n",
       "125  -407.6820         6    341.7940       0.5         205.90  \n",
       "1394 -430.6170         5    433.2268       0.5         260.98  \n",
       "5094 -120.3720         5    134.1288       0.5          85.98  \n",
       "241  -120.5130         5    119.0952       0.5          70.89  \n",
       "7298 -175.2600         4    233.6800       0.5         146.05  \n",
       "4721 -209.7693         3    319.1362       0.5         179.29  \n",
       "8926 -538.4460         3    776.3640       0.5         417.40  \n",
       "5750 -184.8366         3    360.1944       0.5         236.97  "
      ]
     },
     "execution_count": 33,
     "metadata": {},
     "output_type": "execute_result"
    }
   ],
   "source": [
    "contactmatcher_apj = df[(df['Product'] == 'ContactMatcher') & (df['Region'] == 'APJ') & (df['Discount'] == 0.5)]\n",
    "contactmatcher_apj = contactmatcher_apj[['Customer','Industry','Region', 'Country', 'Sales', 'Profit','Quantity', 'Cost Price', 'Discount','Selling Price']]\n",
    "contactmatcher_apj.sort_values(by='Quantity', ascending=False).head(10)"
   ]
  },
  {
   "cell_type": "markdown",
   "metadata": {},
   "source": [
    "    Alchemy : The Highest Profit"
   ]
  },
  {
   "cell_type": "markdown",
   "metadata": {},
   "source": [
    "**Top 4 companies with the highest profit on Alchemy Transactions**"
   ]
  },
  {
   "cell_type": "code",
   "execution_count": 34,
   "metadata": {},
   "outputs": [
    {
     "data": {
      "text/html": [
       "<div>\n",
       "<style scoped>\n",
       "    .dataframe tbody tr th:only-of-type {\n",
       "        vertical-align: middle;\n",
       "    }\n",
       "\n",
       "    .dataframe tbody tr th {\n",
       "        vertical-align: top;\n",
       "    }\n",
       "\n",
       "    .dataframe thead th {\n",
       "        text-align: right;\n",
       "    }\n",
       "</style>\n",
       "<table border=\"1\" class=\"dataframe\">\n",
       "  <thead>\n",
       "    <tr style=\"text-align: right;\">\n",
       "      <th></th>\n",
       "      <th>Customer</th>\n",
       "      <th>Industry</th>\n",
       "      <th>Region</th>\n",
       "      <th>Country</th>\n",
       "      <th>Sales</th>\n",
       "      <th>Profit</th>\n",
       "      <th>Quantity</th>\n",
       "      <th>Cost Price</th>\n",
       "      <th>Discount</th>\n",
       "      <th>Selling Price</th>\n",
       "    </tr>\n",
       "  </thead>\n",
       "  <tbody>\n",
       "    <tr>\n",
       "      <th>6826</th>\n",
       "      <td>Coca-Cola</td>\n",
       "      <td>Consumer Products</td>\n",
       "      <td>APJ</td>\n",
       "      <td>India</td>\n",
       "      <td>17499.950</td>\n",
       "      <td>8399.9760</td>\n",
       "      <td>5</td>\n",
       "      <td>1819.9948</td>\n",
       "      <td>0.0</td>\n",
       "      <td>3499.99</td>\n",
       "    </tr>\n",
       "    <tr>\n",
       "      <th>8153</th>\n",
       "      <td>Mondelez International</td>\n",
       "      <td>Consumer Products</td>\n",
       "      <td>AMER</td>\n",
       "      <td>Canada</td>\n",
       "      <td>13999.960</td>\n",
       "      <td>6719.9808</td>\n",
       "      <td>4</td>\n",
       "      <td>1819.9948</td>\n",
       "      <td>0.0</td>\n",
       "      <td>3499.99</td>\n",
       "    </tr>\n",
       "    <tr>\n",
       "      <th>4190</th>\n",
       "      <td>Lowes</td>\n",
       "      <td>Retail</td>\n",
       "      <td>APJ</td>\n",
       "      <td>Philippines</td>\n",
       "      <td>10499.970</td>\n",
       "      <td>5039.9856</td>\n",
       "      <td>3</td>\n",
       "      <td>1819.9948</td>\n",
       "      <td>0.0</td>\n",
       "      <td>3499.99</td>\n",
       "    </tr>\n",
       "    <tr>\n",
       "      <th>2623</th>\n",
       "      <td>Trafigura Group</td>\n",
       "      <td>Finance</td>\n",
       "      <td>EMEA</td>\n",
       "      <td>United Kingdom</td>\n",
       "      <td>11199.968</td>\n",
       "      <td>3919.9888</td>\n",
       "      <td>4</td>\n",
       "      <td>2274.9935</td>\n",
       "      <td>0.2</td>\n",
       "      <td>3499.99</td>\n",
       "    </tr>\n",
       "  </tbody>\n",
       "</table>\n",
       "</div>"
      ],
      "text/plain": [
       "                    Customer           Industry Region         Country  \\\n",
       "6826               Coca-Cola  Consumer Products    APJ           India   \n",
       "8153  Mondelez International  Consumer Products   AMER          Canada   \n",
       "4190                   Lowes             Retail    APJ     Philippines   \n",
       "2623         Trafigura Group            Finance   EMEA  United Kingdom   \n",
       "\n",
       "          Sales     Profit  Quantity  Cost Price  Discount  Selling Price  \n",
       "6826  17499.950  8399.9760         5   1819.9948       0.0        3499.99  \n",
       "8153  13999.960  6719.9808         4   1819.9948       0.0        3499.99  \n",
       "4190  10499.970  5039.9856         3   1819.9948       0.0        3499.99  \n",
       "2623  11199.968  3919.9888         4   2274.9935       0.2        3499.99  "
      ]
     },
     "execution_count": 34,
     "metadata": {},
     "output_type": "execute_result"
    }
   ],
   "source": [
    "alchemy_highest = df[df['Product'] == 'Alchemy'].sort_values(by='Profit', ascending=False)\n",
    "alchemy_highest = alchemy_highest[['Customer','Industry','Region', 'Country', 'Sales', 'Profit','Quantity', 'Cost Price', 'Discount','Selling Price']]\n",
    "alchemy_highest.head(4)"
   ]
  },
  {
   "cell_type": "markdown",
   "metadata": {},
   "source": [
    "### WHY 4?"
   ]
  },
  {
   "cell_type": "markdown",
   "metadata": {},
   "source": [
    "Because I initially reviewed the overall data but selected 4 customers based on the highest profits up to the fourth position, considering the highest discount of only 0.2%"
   ]
  },
  {
   "cell_type": "markdown",
   "metadata": {},
   "source": [
    "### Increasing the discount for customers with the highest profits"
   ]
  },
  {
   "cell_type": "markdown",
   "metadata": {},
   "source": [
    "Considering the data above, there are only 68 transactions for purchasing Alchemy. When examining the top 4 entries, most of them exhibit high prices with no applied discounts. Interestingly, **a minor discount** is seen in the **fourth rank**. Given that the cost price also significantly differs from the selling price, I recommend providing and enhancing discounts to the top 4 customers who contribute the highest profits."
   ]
  },
  {
   "cell_type": "markdown",
   "metadata": {},
   "source": [
    "**Lowest Profit from Alchemy Products**"
   ]
  },
  {
   "cell_type": "code",
   "execution_count": 35,
   "metadata": {},
   "outputs": [
    {
     "data": {
      "text/html": [
       "<div>\n",
       "<style scoped>\n",
       "    .dataframe tbody tr th:only-of-type {\n",
       "        vertical-align: middle;\n",
       "    }\n",
       "\n",
       "    .dataframe tbody tr th {\n",
       "        vertical-align: top;\n",
       "    }\n",
       "\n",
       "    .dataframe thead th {\n",
       "        text-align: right;\n",
       "    }\n",
       "</style>\n",
       "<table border=\"1\" class=\"dataframe\">\n",
       "  <thead>\n",
       "    <tr style=\"text-align: right;\">\n",
       "      <th></th>\n",
       "      <th>Customer</th>\n",
       "      <th>Industry</th>\n",
       "      <th>Region</th>\n",
       "      <th>Country</th>\n",
       "      <th>Sales</th>\n",
       "      <th>Profit</th>\n",
       "      <th>Quantity</th>\n",
       "      <th>Cost Price</th>\n",
       "      <th>Discount</th>\n",
       "      <th>Selling Price</th>\n",
       "    </tr>\n",
       "  </thead>\n",
       "  <tbody>\n",
       "    <tr>\n",
       "      <th>2899</th>\n",
       "      <td>Daimler</td>\n",
       "      <td>Transportation</td>\n",
       "      <td>EMEA</td>\n",
       "      <td>United Kingdom</td>\n",
       "      <td>479.984</td>\n",
       "      <td>59.9980</td>\n",
       "      <td>2</td>\n",
       "      <td>262.491250</td>\n",
       "      <td>0.2</td>\n",
       "      <td>299.99</td>\n",
       "    </tr>\n",
       "    <tr>\n",
       "      <th>2386</th>\n",
       "      <td>Cisco Systems</td>\n",
       "      <td>Tech</td>\n",
       "      <td>AMER</td>\n",
       "      <td>United States</td>\n",
       "      <td>479.984</td>\n",
       "      <td>59.9980</td>\n",
       "      <td>2</td>\n",
       "      <td>262.491250</td>\n",
       "      <td>0.2</td>\n",
       "      <td>299.99</td>\n",
       "    </tr>\n",
       "    <tr>\n",
       "      <th>8539</th>\n",
       "      <td>Morgan Stanley</td>\n",
       "      <td>Finance</td>\n",
       "      <td>AMER</td>\n",
       "      <td>United States</td>\n",
       "      <td>479.984</td>\n",
       "      <td>59.9980</td>\n",
       "      <td>2</td>\n",
       "      <td>262.491250</td>\n",
       "      <td>0.2</td>\n",
       "      <td>299.99</td>\n",
       "    </tr>\n",
       "    <tr>\n",
       "      <th>7042</th>\n",
       "      <td>Wells Fargo</td>\n",
       "      <td>Finance</td>\n",
       "      <td>EMEA</td>\n",
       "      <td>France</td>\n",
       "      <td>599.970</td>\n",
       "      <td>69.9965</td>\n",
       "      <td>5</td>\n",
       "      <td>176.657833</td>\n",
       "      <td>0.4</td>\n",
       "      <td>199.99</td>\n",
       "    </tr>\n",
       "    <tr>\n",
       "      <th>1233</th>\n",
       "      <td>Pfizer</td>\n",
       "      <td>Healthcare</td>\n",
       "      <td>AMER</td>\n",
       "      <td>Mexico</td>\n",
       "      <td>839.988</td>\n",
       "      <td>69.9990</td>\n",
       "      <td>2</td>\n",
       "      <td>641.657500</td>\n",
       "      <td>0.4</td>\n",
       "      <td>699.99</td>\n",
       "    </tr>\n",
       "  </tbody>\n",
       "</table>\n",
       "</div>"
      ],
      "text/plain": [
       "            Customer        Industry Region         Country    Sales   Profit  \\\n",
       "2899         Daimler  Transportation   EMEA  United Kingdom  479.984  59.9980   \n",
       "2386   Cisco Systems            Tech   AMER   United States  479.984  59.9980   \n",
       "8539  Morgan Stanley         Finance   AMER   United States  479.984  59.9980   \n",
       "7042     Wells Fargo         Finance   EMEA          France  599.970  69.9965   \n",
       "1233          Pfizer      Healthcare   AMER          Mexico  839.988  69.9990   \n",
       "\n",
       "      Quantity  Cost Price  Discount  Selling Price  \n",
       "2899         2  262.491250       0.2         299.99  \n",
       "2386         2  262.491250       0.2         299.99  \n",
       "8539         2  262.491250       0.2         299.99  \n",
       "7042         5  176.657833       0.4         199.99  \n",
       "1233         2  641.657500       0.4         699.99  "
      ]
     },
     "execution_count": 35,
     "metadata": {},
     "output_type": "execute_result"
    }
   ],
   "source": [
    "alchemy_lowest = df[df['Product'] == 'Alchemy'].sort_values(by='Profit')\n",
    "alchemy_lowest = alchemy_lowest[['Customer','Industry','Region', 'Country', 'Sales', 'Profit','Quantity', 'Cost Price', 'Discount','Selling Price']]\n",
    "alchemy_lowest.head(5)"
   ]
  },
  {
   "cell_type": "markdown",
   "metadata": {},
   "source": [
    "In view of the data, it's challenging to pinpoint purchasing trends based on industries."
   ]
  },
  {
   "cell_type": "code",
   "execution_count": 36,
   "metadata": {},
   "outputs": [
    {
     "data": {
      "text/html": [
       "<div>\n",
       "<style scoped>\n",
       "    .dataframe tbody tr th:only-of-type {\n",
       "        vertical-align: middle;\n",
       "    }\n",
       "\n",
       "    .dataframe tbody tr th {\n",
       "        vertical-align: top;\n",
       "    }\n",
       "\n",
       "    .dataframe thead th {\n",
       "        text-align: right;\n",
       "    }\n",
       "</style>\n",
       "<table border=\"1\" class=\"dataframe\">\n",
       "  <thead>\n",
       "    <tr style=\"text-align: right;\">\n",
       "      <th></th>\n",
       "      <th>Customer</th>\n",
       "      <th>Industry</th>\n",
       "      <th>Region</th>\n",
       "      <th>Country</th>\n",
       "      <th>Sales</th>\n",
       "      <th>Profit</th>\n",
       "      <th>Quantity</th>\n",
       "      <th>Cost Price</th>\n",
       "      <th>Discount</th>\n",
       "      <th>Selling Price</th>\n",
       "    </tr>\n",
       "  </thead>\n",
       "  <tbody>\n",
       "    <tr>\n",
       "      <th>335</th>\n",
       "      <td>BNP Paribas</td>\n",
       "      <td>Finance</td>\n",
       "      <td>AMER</td>\n",
       "      <td>United States</td>\n",
       "      <td>959.984</td>\n",
       "      <td>335.9944</td>\n",
       "      <td>2</td>\n",
       "      <td>389.993500</td>\n",
       "      <td>0.2</td>\n",
       "      <td>599.99</td>\n",
       "    </tr>\n",
       "    <tr>\n",
       "      <th>392</th>\n",
       "      <td>UnitedHealth Group</td>\n",
       "      <td>Healthcare</td>\n",
       "      <td>AMER</td>\n",
       "      <td>Canada</td>\n",
       "      <td>1799.970</td>\n",
       "      <td>701.9883</td>\n",
       "      <td>3</td>\n",
       "      <td>365.993900</td>\n",
       "      <td>0.0</td>\n",
       "      <td>599.99</td>\n",
       "    </tr>\n",
       "    <tr>\n",
       "      <th>406</th>\n",
       "      <td>Amazon</td>\n",
       "      <td>Tech</td>\n",
       "      <td>AMER</td>\n",
       "      <td>United States</td>\n",
       "      <td>1199.976</td>\n",
       "      <td>434.9913</td>\n",
       "      <td>3</td>\n",
       "      <td>318.743625</td>\n",
       "      <td>0.2</td>\n",
       "      <td>499.99</td>\n",
       "    </tr>\n",
       "    <tr>\n",
       "      <th>515</th>\n",
       "      <td>FedEx</td>\n",
       "      <td>Transportation</td>\n",
       "      <td>EMEA</td>\n",
       "      <td>Netherlands</td>\n",
       "      <td>2999.950</td>\n",
       "      <td>1379.9770</td>\n",
       "      <td>5</td>\n",
       "      <td>323.994600</td>\n",
       "      <td>0.0</td>\n",
       "      <td>599.99</td>\n",
       "    </tr>\n",
       "    <tr>\n",
       "      <th>595</th>\n",
       "      <td>Alphabet</td>\n",
       "      <td>Tech</td>\n",
       "      <td>AMER</td>\n",
       "      <td>United States</td>\n",
       "      <td>1199.976</td>\n",
       "      <td>434.9913</td>\n",
       "      <td>3</td>\n",
       "      <td>318.743625</td>\n",
       "      <td>0.2</td>\n",
       "      <td>499.99</td>\n",
       "    </tr>\n",
       "    <tr>\n",
       "      <th>753</th>\n",
       "      <td>Chevron</td>\n",
       "      <td>Energy</td>\n",
       "      <td>AMER</td>\n",
       "      <td>United States</td>\n",
       "      <td>1199.976</td>\n",
       "      <td>374.9925</td>\n",
       "      <td>3</td>\n",
       "      <td>343.743125</td>\n",
       "      <td>0.2</td>\n",
       "      <td>499.99</td>\n",
       "    </tr>\n",
       "    <tr>\n",
       "      <th>1150</th>\n",
       "      <td>Airbus</td>\n",
       "      <td>Manufacturing</td>\n",
       "      <td>AMER</td>\n",
       "      <td>Brazil</td>\n",
       "      <td>599.980</td>\n",
       "      <td>209.9930</td>\n",
       "      <td>2</td>\n",
       "      <td>194.993500</td>\n",
       "      <td>0.0</td>\n",
       "      <td>299.99</td>\n",
       "    </tr>\n",
       "    <tr>\n",
       "      <th>1233</th>\n",
       "      <td>Pfizer</td>\n",
       "      <td>Healthcare</td>\n",
       "      <td>AMER</td>\n",
       "      <td>Mexico</td>\n",
       "      <td>839.988</td>\n",
       "      <td>69.9990</td>\n",
       "      <td>2</td>\n",
       "      <td>641.657500</td>\n",
       "      <td>0.4</td>\n",
       "      <td>699.99</td>\n",
       "    </tr>\n",
       "    <tr>\n",
       "      <th>1549</th>\n",
       "      <td>Prudential Financial</td>\n",
       "      <td>Finance</td>\n",
       "      <td>EMEA</td>\n",
       "      <td>United Kingdom</td>\n",
       "      <td>559.992</td>\n",
       "      <td>174.9975</td>\n",
       "      <td>1</td>\n",
       "      <td>481.243125</td>\n",
       "      <td>0.2</td>\n",
       "      <td>699.99</td>\n",
       "    </tr>\n",
       "    <tr>\n",
       "      <th>1644</th>\n",
       "      <td>Humana</td>\n",
       "      <td>Healthcare</td>\n",
       "      <td>AMER</td>\n",
       "      <td>Canada</td>\n",
       "      <td>3149.930</td>\n",
       "      <td>1480.4671</td>\n",
       "      <td>7</td>\n",
       "      <td>238.494700</td>\n",
       "      <td>0.0</td>\n",
       "      <td>449.99</td>\n",
       "    </tr>\n",
       "  </tbody>\n",
       "</table>\n",
       "</div>"
      ],
      "text/plain": [
       "                  Customer        Industry Region         Country     Sales  \\\n",
       "335            BNP Paribas         Finance   AMER   United States   959.984   \n",
       "392     UnitedHealth Group      Healthcare   AMER          Canada  1799.970   \n",
       "406                 Amazon            Tech   AMER   United States  1199.976   \n",
       "515                  FedEx  Transportation   EMEA     Netherlands  2999.950   \n",
       "595               Alphabet            Tech   AMER   United States  1199.976   \n",
       "753                Chevron          Energy   AMER   United States  1199.976   \n",
       "1150                Airbus   Manufacturing   AMER          Brazil   599.980   \n",
       "1233                Pfizer      Healthcare   AMER          Mexico   839.988   \n",
       "1549  Prudential Financial         Finance   EMEA  United Kingdom   559.992   \n",
       "1644                Humana      Healthcare   AMER          Canada  3149.930   \n",
       "\n",
       "         Profit  Quantity  Cost Price  Discount  Selling Price  \n",
       "335    335.9944         2  389.993500       0.2         599.99  \n",
       "392    701.9883         3  365.993900       0.0         599.99  \n",
       "406    434.9913         3  318.743625       0.2         499.99  \n",
       "515   1379.9770         5  323.994600       0.0         599.99  \n",
       "595    434.9913         3  318.743625       0.2         499.99  \n",
       "753    374.9925         3  343.743125       0.2         499.99  \n",
       "1150   209.9930         2  194.993500       0.0         299.99  \n",
       "1233    69.9990         2  641.657500       0.4         699.99  \n",
       "1549   174.9975         1  481.243125       0.2         699.99  \n",
       "1644  1480.4671         7  238.494700       0.0         449.99  "
      ]
     },
     "execution_count": 36,
     "metadata": {},
     "output_type": "execute_result"
    }
   ],
   "source": [
    "alchemy = df[df['Product'] == 'Alchemy']\n",
    "alchemy= alchemy[['Customer','Industry','Region', 'Country', 'Sales', 'Profit','Quantity', 'Cost Price', 'Discount','Selling Price']]\n",
    "alchemy.head(10)"
   ]
  },
  {
   "cell_type": "markdown",
   "metadata": {},
   "source": [
    "### APJ AGAIN?"
   ]
  },
  {
   "cell_type": "code",
   "execution_count": 37,
   "metadata": {},
   "outputs": [
    {
     "data": {
      "text/html": [
       "<div>\n",
       "<style scoped>\n",
       "    .dataframe tbody tr th:only-of-type {\n",
       "        vertical-align: middle;\n",
       "    }\n",
       "\n",
       "    .dataframe tbody tr th {\n",
       "        vertical-align: top;\n",
       "    }\n",
       "\n",
       "    .dataframe thead th {\n",
       "        text-align: right;\n",
       "    }\n",
       "</style>\n",
       "<table border=\"1\" class=\"dataframe\">\n",
       "  <thead>\n",
       "    <tr style=\"text-align: right;\">\n",
       "      <th></th>\n",
       "      <th>Region</th>\n",
       "      <th>Quantity</th>\n",
       "      <th>Sales</th>\n",
       "      <th>Profit</th>\n",
       "    </tr>\n",
       "  </thead>\n",
       "  <tbody>\n",
       "    <tr>\n",
       "      <th>0</th>\n",
       "      <td>AMER</td>\n",
       "      <td>28</td>\n",
       "      <td>49799.254</td>\n",
       "      <td>18264.2564</td>\n",
       "    </tr>\n",
       "    <tr>\n",
       "      <th>1</th>\n",
       "      <td>APJ</td>\n",
       "      <td>13</td>\n",
       "      <td>41759.640</td>\n",
       "      <td>17819.8729</td>\n",
       "    </tr>\n",
       "    <tr>\n",
       "      <th>2</th>\n",
       "      <td>EMEA</td>\n",
       "      <td>27</td>\n",
       "      <td>57969.136</td>\n",
       "      <td>19533.6956</td>\n",
       "    </tr>\n",
       "  </tbody>\n",
       "</table>\n",
       "</div>"
      ],
      "text/plain": [
       "  Region  Quantity      Sales      Profit\n",
       "0   AMER        28  49799.254  18264.2564\n",
       "1    APJ        13  41759.640  17819.8729\n",
       "2   EMEA        27  57969.136  19533.6956"
      ]
     },
     "execution_count": 37,
     "metadata": {},
     "output_type": "execute_result"
    }
   ],
   "source": [
    "alchemy_region = df[df['Product'] == 'Alchemy']\n",
    "alchemy_region = alchemy.groupby('Region').agg({'Quantity':'count','Sales': 'sum', 'Profit': 'sum'}).reset_index()\n",
    "alchemy_region"
   ]
  },
  {
   "cell_type": "code",
   "execution_count": 38,
   "metadata": {},
   "outputs": [
    {
     "data": {
      "image/png": "[encoded data removed]",
      "text/plain": [
       "<Figure size 800x600 with 1 Axes>"
      ]
     },
     "metadata": {},
     "output_type": "display_data"
    }
   ],
   "source": [
    "plt.figure(figsize=(8,6))\n",
    "plt.pie(alchemy_region['Profit'],\n",
    "        labels=alchemy_region['Region'],\n",
    "        autopct='%.1f%%',\n",
    "        startangle=90,\n",
    "        counterclock=False\n",
    ")\n",
    "fig = plt.gcf()\n",
    "centre_circle = plt.Circle((0,0),0.85,fc='white')\n",
    "fig.gca().add_artist(centre_circle)\n",
    "plt.axis('equal')\n",
    "plt.title('Sales by Region proportion')\n",
    "plt.show()"
   ]
  },
  {
   "cell_type": "markdown",
   "metadata": {},
   "source": [
    "When examining regions, transactions with the lowest profits are more prevalent in the APJ region."
   ]
  },
  {
   "cell_type": "code",
   "execution_count": 39,
   "metadata": {},
   "outputs": [
    {
     "data": {
      "text/html": [
       "<div>\n",
       "<style scoped>\n",
       "    .dataframe tbody tr th:only-of-type {\n",
       "        vertical-align: middle;\n",
       "    }\n",
       "\n",
       "    .dataframe tbody tr th {\n",
       "        vertical-align: top;\n",
       "    }\n",
       "\n",
       "    .dataframe thead th {\n",
       "        text-align: right;\n",
       "    }\n",
       "</style>\n",
       "<table border=\"1\" class=\"dataframe\">\n",
       "  <thead>\n",
       "    <tr style=\"text-align: right;\">\n",
       "      <th></th>\n",
       "      <th>Customer</th>\n",
       "      <th>Industry</th>\n",
       "      <th>Region</th>\n",
       "      <th>Country</th>\n",
       "      <th>Sales</th>\n",
       "      <th>Profit</th>\n",
       "      <th>Quantity</th>\n",
       "      <th>Cost Price</th>\n",
       "      <th>Discount</th>\n",
       "      <th>Selling Price</th>\n",
       "    </tr>\n",
       "  </thead>\n",
       "  <tbody>\n",
       "    <tr>\n",
       "      <th>6649</th>\n",
       "      <td>Enel</td>\n",
       "      <td>Energy</td>\n",
       "      <td>APJ</td>\n",
       "      <td>Japan</td>\n",
       "      <td>319.984</td>\n",
       "      <td>107.9946</td>\n",
       "      <td>2</td>\n",
       "      <td>132.493375</td>\n",
       "      <td>0.2</td>\n",
       "      <td>199.99</td>\n",
       "    </tr>\n",
       "  </tbody>\n",
       "</table>\n",
       "</div>"
      ],
      "text/plain": [
       "     Customer Industry Region Country    Sales    Profit  Quantity  \\\n",
       "6649     Enel   Energy    APJ   Japan  319.984  107.9946         2   \n",
       "\n",
       "      Cost Price  Discount  Selling Price  \n",
       "6649  132.493375       0.2         199.99  "
      ]
     },
     "execution_count": 39,
     "metadata": {},
     "output_type": "execute_result"
    }
   ],
   "source": [
    "alchemy = df[(df['Product'] == 'Alchemy') & (df['Region'] == 'APJ')]\n",
    "alchemy= alchemy[['Customer','Industry','Region', 'Country', 'Sales', 'Profit','Quantity', 'Cost Price', 'Discount','Selling Price']]\n",
    "alchemy.sort_values(by='Profit').head(1)"
   ]
  },
  {
   "cell_type": "markdown",
   "metadata": {},
   "source": [
    "Therefore, **I recommend implementing additional discounts ranging from 10 to 30% to pique the interest of customers**, particularly in the **APJ region**."
   ]
  },
  {
   "cell_type": "markdown",
   "metadata": {},
   "source": [
    "# 2. Which customer provides the highest and the lowest amount of profit?"
   ]
  },
  {
   "cell_type": "markdown",
   "metadata": {},
   "source": [
    "**5 Customer from the Highest Profit**"
   ]
  },
  {
   "cell_type": "code",
   "execution_count": 40,
   "metadata": {},
   "outputs": [
    {
     "data": {
      "text/html": [
       "<div>\n",
       "<style scoped>\n",
       "    .dataframe tbody tr th:only-of-type {\n",
       "        vertical-align: middle;\n",
       "    }\n",
       "\n",
       "    .dataframe tbody tr th {\n",
       "        vertical-align: top;\n",
       "    }\n",
       "\n",
       "    .dataframe thead th {\n",
       "        text-align: right;\n",
       "    }\n",
       "</style>\n",
       "<table border=\"1\" class=\"dataframe\">\n",
       "  <thead>\n",
       "    <tr style=\"text-align: right;\">\n",
       "      <th></th>\n",
       "      <th>Customer</th>\n",
       "      <th>Profit</th>\n",
       "      <th>Quantity</th>\n",
       "    </tr>\n",
       "  </thead>\n",
       "  <tbody>\n",
       "    <tr>\n",
       "      <th>92</th>\n",
       "      <td>Valero Energy</td>\n",
       "      <td>10308.6297</td>\n",
       "      <td>418</td>\n",
       "    </tr>\n",
       "    <tr>\n",
       "      <th>28</th>\n",
       "      <td>Coca-Cola</td>\n",
       "      <td>9449.0246</td>\n",
       "      <td>305</td>\n",
       "    </tr>\n",
       "    <tr>\n",
       "      <th>88</th>\n",
       "      <td>Trafigura Group</td>\n",
       "      <td>8867.8252</td>\n",
       "      <td>359</td>\n",
       "    </tr>\n",
       "    <tr>\n",
       "      <th>62</th>\n",
       "      <td>Mondelez International</td>\n",
       "      <td>8577.6524</td>\n",
       "      <td>519</td>\n",
       "    </tr>\n",
       "    <tr>\n",
       "      <th>55</th>\n",
       "      <td>Lowes</td>\n",
       "      <td>7937.4915</td>\n",
       "      <td>439</td>\n",
       "    </tr>\n",
       "  </tbody>\n",
       "</table>\n",
       "</div>"
      ],
      "text/plain": [
       "                  Customer      Profit  Quantity\n",
       "92           Valero Energy  10308.6297       418\n",
       "28               Coca-Cola   9449.0246       305\n",
       "88         Trafigura Group   8867.8252       359\n",
       "62  Mondelez International   8577.6524       519\n",
       "55                   Lowes   7937.4915       439"
      ]
     },
     "execution_count": 40,
     "metadata": {},
     "output_type": "execute_result"
    }
   ],
   "source": [
    "customer_profit = df.groupby('Customer').agg({'Profit': 'sum', 'Quantity': 'sum'}).reset_index()\n",
    "customer_profit = customer_profit.sort_values(by='Profit', ascending=False)\n",
    "customer_profit_5 = customer_profit.head(5)\n",
    "customer_profit_5"
   ]
  },
  {
   "cell_type": "markdown",
   "metadata": {},
   "source": [
    "If viewed from the data above, the quantity of transactions conducted for high profits appears to start within the range of 305-519. However, in reality, the quantity here cannot yet serve as an exact reference, as even low quantity can yield high profits. Nevertheless, **quantity** can be interpreted as **customer loyalty**."
   ]
  },
  {
   "cell_type": "markdown",
   "metadata": {},
   "source": [
    "**5 Customers from the Lowest Profit**"
   ]
  },
  {
   "cell_type": "code",
   "execution_count": 41,
   "metadata": {},
   "outputs": [
    {
     "data": {
      "text/html": [
       "<div>\n",
       "<style scoped>\n",
       "    .dataframe tbody tr th:only-of-type {\n",
       "        vertical-align: middle;\n",
       "    }\n",
       "\n",
       "    .dataframe tbody tr th {\n",
       "        vertical-align: top;\n",
       "    }\n",
       "\n",
       "    .dataframe thead th {\n",
       "        text-align: right;\n",
       "    }\n",
       "</style>\n",
       "<table border=\"1\" class=\"dataframe\">\n",
       "  <thead>\n",
       "    <tr style=\"text-align: right;\">\n",
       "      <th></th>\n",
       "      <th>Customer</th>\n",
       "      <th>Profit</th>\n",
       "      <th>Quantity</th>\n",
       "    </tr>\n",
       "  </thead>\n",
       "  <tbody>\n",
       "    <tr>\n",
       "      <th>5</th>\n",
       "      <td>Allstate</td>\n",
       "      <td>-2796.2935</td>\n",
       "      <td>411</td>\n",
       "    </tr>\n",
       "    <tr>\n",
       "      <th>19</th>\n",
       "      <td>Bosch</td>\n",
       "      <td>-1823.7794</td>\n",
       "      <td>474</td>\n",
       "    </tr>\n",
       "    <tr>\n",
       "      <th>66</th>\n",
       "      <td>Nissan Motor</td>\n",
       "      <td>-1585.1886</td>\n",
       "      <td>277</td>\n",
       "    </tr>\n",
       "    <tr>\n",
       "      <th>31</th>\n",
       "      <td>Costco Wholesale</td>\n",
       "      <td>-1354.8547</td>\n",
       "      <td>236</td>\n",
       "    </tr>\n",
       "    <tr>\n",
       "      <th>95</th>\n",
       "      <td>Walgreens</td>\n",
       "      <td>-740.6747</td>\n",
       "      <td>241</td>\n",
       "    </tr>\n",
       "  </tbody>\n",
       "</table>\n",
       "</div>"
      ],
      "text/plain": [
       "            Customer     Profit  Quantity\n",
       "5           Allstate -2796.2935       411\n",
       "19             Bosch -1823.7794       474\n",
       "66      Nissan Motor -1585.1886       277\n",
       "31  Costco Wholesale -1354.8547       236\n",
       "95         Walgreens  -740.6747       241"
      ]
     },
     "execution_count": 41,
     "metadata": {},
     "output_type": "execute_result"
    }
   ],
   "source": [
    "customer_non_profit = customer_profit.sort_values(by='Profit', ascending=True)\n",
    "customer_non_profit_5 = customer_non_profit.head(5)\n",
    "customer_non_profit_5"
   ]
  },
  {
   "cell_type": "markdown",
   "metadata": {},
   "source": [
    "**Top 5 Customers from the Highest and Lowest Profit**"
   ]
  },
  {
   "cell_type": "markdown",
   "metadata": {},
   "source": [
    "For the lowest profits, they also involve loyal customers, as seen from the slightly different range of 236 to 474. However, what needs attention here is the amount of profit that falls within the bottom 5 ranks. This is what we need to analyze."
   ]
  },
  {
   "cell_type": "code",
   "execution_count": 42,
   "metadata": {},
   "outputs": [
    {
     "name": "stderr",
     "output_type": "stream",
     "text": [
      "C:\\Users\\Erra Anggi Tarigan\\AppData\\Local\\Temp\\ipykernel_7536\\3000208348.py:3: SettingWithCopyWarning: \n",
      "A value is trying to be set on a copy of a slice from a DataFrame.\n",
      "Try using .loc[row_indexer,col_indexer] = value instead\n",
      "\n",
      "See the caveats in the documentation: https://pandas.pydata.org/pandas-docs/stable/user_guide/indexing.html#returning-a-view-versus-a-copy\n",
      "  customer_profit_5['Profit'] = customer_profit_5['Profit'].apply(lambda x: round(x, 2))\n",
      "C:\\Users\\Erra Anggi Tarigan\\AppData\\Local\\Temp\\ipykernel_7536\\3000208348.py:4: SettingWithCopyWarning: \n",
      "A value is trying to be set on a copy of a slice from a DataFrame.\n",
      "Try using .loc[row_indexer,col_indexer] = value instead\n",
      "\n",
      "See the caveats in the documentation: https://pandas.pydata.org/pandas-docs/stable/user_guide/indexing.html#returning-a-view-versus-a-copy\n",
      "  customer_non_profit_5['Profit'] = customer_non_profit_5['Profit'].apply(lambda x: round(x, 2))\n",
      "C:\\Users\\Erra Anggi Tarigan\\AppData\\Local\\Temp\\ipykernel_7536\\3000208348.py:18: UserWarning: FixedFormatter should only be used together with FixedLocator\n",
      "  axes[0].set_xticklabels(axes[0].get_xticks(), fontsize=15)\n",
      "C:\\Users\\Erra Anggi Tarigan\\AppData\\Local\\Temp\\ipykernel_7536\\3000208348.py:23: UserWarning: FixedFormatter should only be used together with FixedLocator\n",
      "  axes[1].set_xticklabels(axes[1].get_xticks(), fontsize=12) # set the size of range of number\n"
     ]
    },
    {
     "data": {
      "image/png": "[encoded data removed]",
      "text/plain": [
       "<Figure size 1700x1200 with 2 Axes>"
      ]
     },
     "metadata": {},
     "output_type": "display_data"
    }
   ],
   "source": [
    "figure, axes = plt.subplots(1, 2, figsize=(17,12))\n",
    "\n",
    "customer_profit_5['Profit'] = customer_profit_5['Profit'].apply(lambda x: round(x, 2))\n",
    "customer_non_profit_5['Profit'] = customer_non_profit_5['Profit'].apply(lambda x: round(x, 2))\n",
    "\n",
    "# top 3 profit\n",
    "top_cust = customer_profit_5.nlargest(3, 'Profit')['Customer'].tolist()\n",
    "# 3 lowest customer with negative profit\n",
    "low_cust = customer_non_profit_5.nsmallest(3, 'Profit')['Customer'].tolist()\n",
    "# different color for top 3 qty\n",
    "colors_top = ['skyblue' if customer not in top_cust else 'teal' for customer in customer_profit_5['Customer']]\n",
    "colors_low = ['skyblue' if customer not in low_cust else 'teal' for customer in customer_non_profit_5['Customer']]\n",
    "\n",
    "sns.barplot(data=customer_profit_5, x='Profit', y='Customer', ax=axes[0], estimator=sum, palette=colors_top, width=0.5) # width = bar size\n",
    "axes[0].set_title('ContactMatcher Product Solds with Negative Profit by Customer', fontsize=17)\n",
    "for i, value in enumerate(customer_profit_5['Profit']):\n",
    "    axes[0].text(value + -1, i, f'{value}', va='center', fontsize=15)\n",
    "    axes[0].set_xticklabels(axes[0].get_xticks(), fontsize=15)\n",
    "\n",
    "sns.barplot(data=customer_non_profit_5, x='Profit', y='Customer', ax=axes[1], estimator=sum, palette=colors_low, width=0.5)\n",
    "for i, value in enumerate(customer_non_profit_5['Profit']):\n",
    "    axes[1].text(value + 1, i, f'{value}', va='center', fontsize=15) # amount of number in bar\n",
    "    axes[1].set_xticklabels(axes[1].get_xticks(), fontsize=12) # set the size of range of number\n",
    "axes[1].set_title('ContactMatcher Negative Profits by Customer', fontsize=17)\n",
    "\n",
    "plt.subplots_adjust(wspace=0.7)  \n",
    "\n",
    "for tick in axes[0].get_yticklabels():\n",
    "    tick.set_fontsize(15)\n",
    "for tick in axes[1].get_yticklabels():\n",
    "    tick.set_fontsize(15)     \n",
    "plt.show()"
   ]
  },
  {
   "cell_type": "markdown",
   "metadata": {},
   "source": [
    "### ALLSTATE is the LOYAL CUSTOMER but giving the LOWEST PROFIT"
   ]
  },
  {
   "cell_type": "markdown",
   "metadata": {},
   "source": [
    "##### WHAT SHOULD WE DO?"
   ]
  },
  {
   "cell_type": "markdown",
   "metadata": {},
   "source": [
    "The first thing we focus on is the transactional data carried out by the company with the **lowest profit**, which is **Allstate**"
   ]
  },
  {
   "cell_type": "code",
   "execution_count": 43,
   "metadata": {},
   "outputs": [
    {
     "data": {
      "text/html": [
       "<div>\n",
       "<style scoped>\n",
       "    .dataframe tbody tr th:only-of-type {\n",
       "        vertical-align: middle;\n",
       "    }\n",
       "\n",
       "    .dataframe tbody tr th {\n",
       "        vertical-align: top;\n",
       "    }\n",
       "\n",
       "    .dataframe thead th {\n",
       "        text-align: right;\n",
       "    }\n",
       "</style>\n",
       "<table border=\"1\" class=\"dataframe\">\n",
       "  <thead>\n",
       "    <tr style=\"text-align: right;\">\n",
       "      <th></th>\n",
       "      <th>Order Date</th>\n",
       "      <th>Country</th>\n",
       "      <th>City</th>\n",
       "      <th>Region</th>\n",
       "      <th>Customer</th>\n",
       "      <th>Industry</th>\n",
       "      <th>Product</th>\n",
       "      <th>Sales</th>\n",
       "      <th>Quantity</th>\n",
       "      <th>Discount</th>\n",
       "      <th>Profit</th>\n",
       "      <th>Selling Price</th>\n",
       "      <th>Cost Price</th>\n",
       "    </tr>\n",
       "  </thead>\n",
       "  <tbody>\n",
       "    <tr>\n",
       "      <th>7772</th>\n",
       "      <td>2022-11-26</td>\n",
       "      <td>Mexico</td>\n",
       "      <td>Tijuana</td>\n",
       "      <td>AMER</td>\n",
       "      <td>Allstate</td>\n",
       "      <td>Finance</td>\n",
       "      <td>Big Ol Database</td>\n",
       "      <td>4499.985</td>\n",
       "      <td>5</td>\n",
       "      <td>0.7</td>\n",
       "      <td>-6599.978</td>\n",
       "      <td>2999.99</td>\n",
       "      <td>7399.975333</td>\n",
       "    </tr>\n",
       "  </tbody>\n",
       "</table>\n",
       "</div>"
      ],
      "text/plain": [
       "     Order Date Country     City Region  Customer Industry          Product  \\\n",
       "7772 2022-11-26  Mexico  Tijuana   AMER  Allstate  Finance  Big Ol Database   \n",
       "\n",
       "         Sales  Quantity  Discount    Profit  Selling Price   Cost Price  \n",
       "7772  4499.985         5       0.7 -6599.978        2999.99  7399.975333  "
      ]
     },
     "execution_count": 43,
     "metadata": {},
     "output_type": "execute_result"
    }
   ],
   "source": [
    "allstate = df[(df['Customer'] == 'Allstate') & (df['Profit'] < 0)]\n",
    "allstate = allstate.sort_values(by='Profit')\n",
    "allstate.head(1)"
   ]
  },
  {
   "cell_type": "markdown",
   "metadata": {},
   "source": [
    "#### The relatively high discounts given to Allstate"
   ]
  },
  {
   "cell_type": "code",
   "execution_count": 44,
   "metadata": {},
   "outputs": [
    {
     "name": "stdout",
     "output_type": "stream",
     "text": [
      "Jumlah diskon 80% yang diberikan: 2\n",
      "Jumlah diskon 70% yang diberikan: 5\n",
      "Jumlah diskon 40% yang diberikan: 3\n"
     ]
    }
   ],
   "source": [
    "discount_count_80_alchemy = allstate[allstate['Discount'] == 0.8].shape[0]\n",
    "discount_count_70_alchemy = allstate[allstate['Discount'] == 0.7].shape[0]\n",
    "discount_count_40_alchemy = allstate[allstate['Discount'] == 0.4].shape[0]\n",
    "print(\"Jumlah diskon 80% yang diberikan:\", discount_count_80_alchemy)\n",
    "print(\"Jumlah diskon 70% yang diberikan:\", discount_count_70_alchemy)\n",
    "print(\"Jumlah diskon 40% yang diberikan:\", discount_count_40_alchemy)"
   ]
  },
  {
   "cell_type": "markdown",
   "metadata": {},
   "source": [
    "#### The products most frequently paid for by Allstate."
   ]
  },
  {
   "cell_type": "code",
   "execution_count": 45,
   "metadata": {},
   "outputs": [
    {
     "data": {
      "text/plain": [
       "Product\n",
       "ContactMatcher            10\n",
       "Marketing Suite - Gold     2\n",
       "SaaS Connector Pack        2\n",
       "Big Ol Database            1\n",
       "FinanceHub                 1\n",
       "Marketing Suite            1\n",
       "Data Smasher               1\n",
       "Name: count, dtype: int64"
      ]
     },
     "execution_count": 45,
     "metadata": {},
     "output_type": "execute_result"
    }
   ],
   "source": [
    "allstate['Product'].value_counts()"
   ]
  },
  {
   "cell_type": "markdown",
   "metadata": {},
   "source": [
    "While reducing the discounts might be confusing for the loyal corporate customers, there's another approach we can consider. To narrow it down, we could enhance key products that are frequently purchased by Allstate Corporation, such as ContactMatcher. By upgrading its features with, we can capture their attention. But we can upgrading with low cost. Here's a more focused explanation:\n",
    "\n",
    "Firstly, we'll provide a free trial lasting for one month. Following the trial, we'll introduce a monthly subscription fee at a higher price point. However, we'll offer a discount for customers who choose an annual subscription plan. This way, we're aiming to leverage their loyalty while encouraging a longer commitment.\n",
    "\n",
    "The key is to present the value of the upgraded features and the convenience they offer, making the transition to a subscription-based model more appealing."
   ]
  },
  {
   "cell_type": "markdown",
   "metadata": {},
   "source": [
    "### Valero 'THE LOYAL AND THE BEST PROFIT'"
   ]
  },
  {
   "cell_type": "code",
   "execution_count": 46,
   "metadata": {},
   "outputs": [
    {
     "data": {
      "text/html": [
       "<div>\n",
       "<style scoped>\n",
       "    .dataframe tbody tr th:only-of-type {\n",
       "        vertical-align: middle;\n",
       "    }\n",
       "\n",
       "    .dataframe tbody tr th {\n",
       "        vertical-align: top;\n",
       "    }\n",
       "\n",
       "    .dataframe thead th {\n",
       "        text-align: right;\n",
       "    }\n",
       "</style>\n",
       "<table border=\"1\" class=\"dataframe\">\n",
       "  <thead>\n",
       "    <tr style=\"text-align: right;\">\n",
       "      <th></th>\n",
       "      <th>Order Date</th>\n",
       "      <th>Country</th>\n",
       "      <th>City</th>\n",
       "      <th>Region</th>\n",
       "      <th>Customer</th>\n",
       "      <th>Industry</th>\n",
       "      <th>Product</th>\n",
       "      <th>Sales</th>\n",
       "      <th>Quantity</th>\n",
       "      <th>Discount</th>\n",
       "      <th>Profit</th>\n",
       "      <th>Selling Price</th>\n",
       "      <th>Cost Price</th>\n",
       "    </tr>\n",
       "  </thead>\n",
       "  <tbody>\n",
       "    <tr>\n",
       "      <th>9039</th>\n",
       "      <td>2022-12-18</td>\n",
       "      <td>Brazil</td>\n",
       "      <td>São Paulo</td>\n",
       "      <td>AMER</td>\n",
       "      <td>Valero Energy</td>\n",
       "      <td>Energy</td>\n",
       "      <td>ContactMatcher</td>\n",
       "      <td>9892.74</td>\n",
       "      <td>13</td>\n",
       "      <td>0.0</td>\n",
       "      <td>4946.3700</td>\n",
       "      <td>760.98</td>\n",
       "      <td>380.4900</td>\n",
       "    </tr>\n",
       "    <tr>\n",
       "      <th>9948</th>\n",
       "      <td>2023-06-02</td>\n",
       "      <td>India</td>\n",
       "      <td>Delhi</td>\n",
       "      <td>APJ</td>\n",
       "      <td>Valero Energy</td>\n",
       "      <td>Energy</td>\n",
       "      <td>OneView</td>\n",
       "      <td>2405.20</td>\n",
       "      <td>8</td>\n",
       "      <td>0.0</td>\n",
       "      <td>793.7160</td>\n",
       "      <td>300.65</td>\n",
       "      <td>201.4355</td>\n",
       "    </tr>\n",
       "    <tr>\n",
       "      <th>9513</th>\n",
       "      <td>2022-10-15</td>\n",
       "      <td>Italy</td>\n",
       "      <td>Venice</td>\n",
       "      <td>EMEA</td>\n",
       "      <td>Valero Energy</td>\n",
       "      <td>Energy</td>\n",
       "      <td>Data Smasher</td>\n",
       "      <td>1649.75</td>\n",
       "      <td>5</td>\n",
       "      <td>0.0</td>\n",
       "      <td>544.4175</td>\n",
       "      <td>329.95</td>\n",
       "      <td>221.0665</td>\n",
       "    </tr>\n",
       "  </tbody>\n",
       "</table>\n",
       "</div>"
      ],
      "text/plain": [
       "     Order Date Country       City Region       Customer Industry  \\\n",
       "9039 2022-12-18  Brazil  São Paulo   AMER  Valero Energy   Energy   \n",
       "9948 2023-06-02   India      Delhi    APJ  Valero Energy   Energy   \n",
       "9513 2022-10-15   Italy     Venice   EMEA  Valero Energy   Energy   \n",
       "\n",
       "             Product    Sales  Quantity  Discount     Profit  Selling Price  \\\n",
       "9039  ContactMatcher  9892.74        13       0.0  4946.3700         760.98   \n",
       "9948         OneView  2405.20         8       0.0   793.7160         300.65   \n",
       "9513    Data Smasher  1649.75         5       0.0   544.4175         329.95   \n",
       "\n",
       "      Cost Price  \n",
       "9039    380.4900  \n",
       "9948    201.4355  \n",
       "9513    221.0665  "
      ]
     },
     "execution_count": 46,
     "metadata": {},
     "output_type": "execute_result"
    }
   ],
   "source": [
    "valero = df[df['Customer'] == 'Valero Energy']\n",
    "valero = valero.sort_values(by='Profit', ascending=False)\n",
    "valero.head(3)"
   ]
  },
  {
   "cell_type": "markdown",
   "metadata": {},
   "source": [
    "It turns out that Valero's highest-profit transaction came from the ContactMatcher product. It seems we do need to enhance the features to justify a price increase. We can consider offering a free trial to introduce these new features, followed by a paid subscription model. We could also provide discounts for both monthly and annual subscriptions, with higher discounts for the latter."
   ]
  },
  {
   "cell_type": "markdown",
   "metadata": {},
   "source": [
    "# 3. When did the company experience its lowest and highest profits?"
   ]
  },
  {
   "cell_type": "code",
   "execution_count": 47,
   "metadata": {},
   "outputs": [
    {
     "data": {
      "text/html": [
       "<div>\n",
       "<style scoped>\n",
       "    .dataframe tbody tr th:only-of-type {\n",
       "        vertical-align: middle;\n",
       "    }\n",
       "\n",
       "    .dataframe tbody tr th {\n",
       "        vertical-align: top;\n",
       "    }\n",
       "\n",
       "    .dataframe thead th {\n",
       "        text-align: right;\n",
       "    }\n",
       "</style>\n",
       "<table border=\"1\" class=\"dataframe\">\n",
       "  <thead>\n",
       "    <tr style=\"text-align: right;\">\n",
       "      <th></th>\n",
       "      <th>Order Date</th>\n",
       "      <th>Country</th>\n",
       "      <th>City</th>\n",
       "      <th>Region</th>\n",
       "      <th>Customer</th>\n",
       "      <th>Industry</th>\n",
       "      <th>Product</th>\n",
       "      <th>Sales</th>\n",
       "      <th>Quantity</th>\n",
       "      <th>Discount</th>\n",
       "      <th>Profit</th>\n",
       "      <th>Selling Price</th>\n",
       "      <th>Cost Price</th>\n",
       "      <th>Year</th>\n",
       "    </tr>\n",
       "  </thead>\n",
       "  <tbody>\n",
       "    <tr>\n",
       "      <th>0</th>\n",
       "      <td>2022-11-09</td>\n",
       "      <td>Ireland</td>\n",
       "      <td>Dublin</td>\n",
       "      <td>EMEA</td>\n",
       "      <td>Chevron</td>\n",
       "      <td>Energy</td>\n",
       "      <td>Marketing Suite</td>\n",
       "      <td>261.96</td>\n",
       "      <td>2</td>\n",
       "      <td>0.0</td>\n",
       "      <td>41.9136</td>\n",
       "      <td>130.98</td>\n",
       "      <td>110.0232</td>\n",
       "      <td>2022</td>\n",
       "    </tr>\n",
       "  </tbody>\n",
       "</table>\n",
       "</div>"
      ],
      "text/plain": [
       "  Order Date  Country    City Region Customer Industry          Product  \\\n",
       "0 2022-11-09  Ireland  Dublin   EMEA  Chevron   Energy  Marketing Suite   \n",
       "\n",
       "    Sales  Quantity  Discount   Profit  Selling Price  Cost Price  Year  \n",
       "0  261.96         2       0.0  41.9136         130.98    110.0232  2022  "
      ]
     },
     "execution_count": 47,
     "metadata": {},
     "output_type": "execute_result"
    }
   ],
   "source": [
    "df['Year'] = df['Order Date'].dt.year\n",
    "df.head(1)"
   ]
  },
  {
   "cell_type": "code",
   "execution_count": 48,
   "metadata": {},
   "outputs": [
    {
     "data": {
      "text/html": [
       "<div>\n",
       "<style scoped>\n",
       "    .dataframe tbody tr th:only-of-type {\n",
       "        vertical-align: middle;\n",
       "    }\n",
       "\n",
       "    .dataframe tbody tr th {\n",
       "        vertical-align: top;\n",
       "    }\n",
       "\n",
       "    .dataframe thead th {\n",
       "        text-align: right;\n",
       "    }\n",
       "</style>\n",
       "<table border=\"1\" class=\"dataframe\">\n",
       "  <thead>\n",
       "    <tr style=\"text-align: right;\">\n",
       "      <th></th>\n",
       "      <th>Order Date</th>\n",
       "      <th>Country</th>\n",
       "      <th>City</th>\n",
       "      <th>Region</th>\n",
       "      <th>Customer</th>\n",
       "      <th>Industry</th>\n",
       "      <th>Product</th>\n",
       "      <th>Sales</th>\n",
       "      <th>Quantity</th>\n",
       "      <th>Discount</th>\n",
       "      <th>Profit</th>\n",
       "      <th>Selling Price</th>\n",
       "      <th>Cost Price</th>\n",
       "      <th>Year</th>\n",
       "      <th>Month</th>\n",
       "    </tr>\n",
       "  </thead>\n",
       "  <tbody>\n",
       "    <tr>\n",
       "      <th>0</th>\n",
       "      <td>2022-11-09</td>\n",
       "      <td>Ireland</td>\n",
       "      <td>Dublin</td>\n",
       "      <td>EMEA</td>\n",
       "      <td>Chevron</td>\n",
       "      <td>Energy</td>\n",
       "      <td>Marketing Suite</td>\n",
       "      <td>261.96</td>\n",
       "      <td>2</td>\n",
       "      <td>0.0</td>\n",
       "      <td>41.9136</td>\n",
       "      <td>130.98</td>\n",
       "      <td>110.0232</td>\n",
       "      <td>2022</td>\n",
       "      <td>11</td>\n",
       "    </tr>\n",
       "  </tbody>\n",
       "</table>\n",
       "</div>"
      ],
      "text/plain": [
       "  Order Date  Country    City Region Customer Industry          Product  \\\n",
       "0 2022-11-09  Ireland  Dublin   EMEA  Chevron   Energy  Marketing Suite   \n",
       "\n",
       "    Sales  Quantity  Discount   Profit  Selling Price  Cost Price  Year  Month  \n",
       "0  261.96         2       0.0  41.9136         130.98    110.0232  2022     11  "
      ]
     },
     "execution_count": 48,
     "metadata": {},
     "output_type": "execute_result"
    }
   ],
   "source": [
    "df['Month'] = df['Order Date'].dt.month\n",
    "df.head(1)"
   ]
  },
  {
   "cell_type": "code",
   "execution_count": 49,
   "metadata": {},
   "outputs": [
    {
     "data": {
      "text/html": [
       "<div>\n",
       "<style scoped>\n",
       "    .dataframe tbody tr th:only-of-type {\n",
       "        vertical-align: middle;\n",
       "    }\n",
       "\n",
       "    .dataframe tbody tr th {\n",
       "        vertical-align: top;\n",
       "    }\n",
       "\n",
       "    .dataframe thead th {\n",
       "        text-align: right;\n",
       "    }\n",
       "</style>\n",
       "<table border=\"1\" class=\"dataframe\">\n",
       "  <thead>\n",
       "    <tr style=\"text-align: right;\">\n",
       "      <th></th>\n",
       "      <th>Year</th>\n",
       "      <th>Month</th>\n",
       "      <th>Profit</th>\n",
       "    </tr>\n",
       "  </thead>\n",
       "  <tbody>\n",
       "    <tr>\n",
       "      <th>0</th>\n",
       "      <td>2020</td>\n",
       "      <td>1</td>\n",
       "      <td>2446.7711</td>\n",
       "    </tr>\n",
       "  </tbody>\n",
       "</table>\n",
       "</div>"
      ],
      "text/plain": [
       "   Year  Month     Profit\n",
       "0  2020      1  2446.7711"
      ]
     },
     "execution_count": 49,
     "metadata": {},
     "output_type": "execute_result"
    }
   ],
   "source": [
    "year_month = df.groupby(['Year', 'Month']).agg({'Profit':'sum'}).reset_index().sort_values(['Year','Month'])\n",
    "year_month.head(1)"
   ]
  },
  {
   "cell_type": "code",
   "execution_count": 50,
   "metadata": {},
   "outputs": [
    {
     "data": {
      "text/html": [
       "<div>\n",
       "<style scoped>\n",
       "    .dataframe tbody tr th:only-of-type {\n",
       "        vertical-align: middle;\n",
       "    }\n",
       "\n",
       "    .dataframe tbody tr th {\n",
       "        vertical-align: top;\n",
       "    }\n",
       "\n",
       "    .dataframe thead th {\n",
       "        text-align: right;\n",
       "    }\n",
       "</style>\n",
       "<table border=\"1\" class=\"dataframe\">\n",
       "  <thead>\n",
       "    <tr style=\"text-align: right;\">\n",
       "      <th></th>\n",
       "      <th>Year</th>\n",
       "      <th>Month</th>\n",
       "      <th>Profit</th>\n",
       "      <th>Year Month</th>\n",
       "    </tr>\n",
       "  </thead>\n",
       "  <tbody>\n",
       "    <tr>\n",
       "      <th>0</th>\n",
       "      <td>2020</td>\n",
       "      <td>1</td>\n",
       "      <td>2446.7711</td>\n",
       "      <td>1-2020</td>\n",
       "    </tr>\n",
       "  </tbody>\n",
       "</table>\n",
       "</div>"
      ],
      "text/plain": [
       "   Year  Month     Profit Year Month\n",
       "0  2020      1  2446.7711     1-2020"
      ]
     },
     "execution_count": 50,
     "metadata": {},
     "output_type": "execute_result"
    }
   ],
   "source": [
    "def get_year_month(row):\n",
    "    return f\"{row['Month']}-{row['Year']}\"\n",
    "\n",
    "year_month['Year Month'] = year_month[['Year', 'Month']].apply(get_year_month, axis=1)\n",
    "year_month.head(1)"
   ]
  },
  {
   "cell_type": "code",
   "execution_count": 51,
   "metadata": {},
   "outputs": [
    {
     "data": {
      "image/png": "[encoded data removed]",
      "text/plain": [
       "<Figure size 1800x600 with 1 Axes>"
      ]
     },
     "metadata": {},
     "output_type": "display_data"
    }
   ],
   "source": [
    "plt.figure(figsize=(18,6))\n",
    "sns.lineplot(data=year_month, x='Year Month', y='Profit')\n",
    "plt.xticks(rotation=45)\n",
    "plt.show()"
   ]
  },
  {
   "cell_type": "markdown",
   "metadata": {},
   "source": [
    "According to the graph, the lowest profit was recorded in December 2020, and the highest profit was achieved in November 2022. If we look at the graph, the lowest profit was in December 2020, and the highest profit was in November 2022. However, it would be more convenient if we break it down into separate graphs for each year range"
   ]
  },
  {
   "cell_type": "code",
   "execution_count": 52,
   "metadata": {},
   "outputs": [
    {
     "data": {
      "text/plain": [
       "array([2020, 2021, 2022, 2023])"
      ]
     },
     "execution_count": 52,
     "metadata": {},
     "output_type": "execute_result"
    }
   ],
   "source": [
    "year_month['Year'].unique()"
   ]
  },
  {
   "cell_type": "markdown",
   "metadata": {},
   "source": [
    "### LOWEST PROFIT IN 4 YEARS"
   ]
  },
  {
   "cell_type": "markdown",
   "metadata": {},
   "source": [
    "#### **January 2021** IT'S THE MOMENT when there was a decrease leading to the lowest point of profit over the 4-year period"
   ]
  },
  {
   "cell_type": "markdown",
   "metadata": {},
   "source": [
    "**Profit by Region in January 2021**"
   ]
  },
  {
   "cell_type": "code",
   "execution_count": 137,
   "metadata": {},
   "outputs": [
    {
     "data": {
      "text/html": [
       "<div>\n",
       "<style scoped>\n",
       "    .dataframe tbody tr th:only-of-type {\n",
       "        vertical-align: middle;\n",
       "    }\n",
       "\n",
       "    .dataframe tbody tr th {\n",
       "        vertical-align: top;\n",
       "    }\n",
       "\n",
       "    .dataframe thead th {\n",
       "        text-align: right;\n",
       "    }\n",
       "</style>\n",
       "<table border=\"1\" class=\"dataframe\">\n",
       "  <thead>\n",
       "    <tr style=\"text-align: right;\">\n",
       "      <th></th>\n",
       "      <th>Region</th>\n",
       "      <th>Quantity</th>\n",
       "      <th>Sales</th>\n",
       "      <th>Profit</th>\n",
       "    </tr>\n",
       "  </thead>\n",
       "  <tbody>\n",
       "    <tr>\n",
       "      <th>0</th>\n",
       "      <td>AMER</td>\n",
       "      <td>23</td>\n",
       "      <td>8927.0000</td>\n",
       "      <td>-874.2409</td>\n",
       "    </tr>\n",
       "    <tr>\n",
       "      <th>1</th>\n",
       "      <td>APJ</td>\n",
       "      <td>13</td>\n",
       "      <td>2926.2716</td>\n",
       "      <td>-519.7630</td>\n",
       "    </tr>\n",
       "    <tr>\n",
       "      <th>2</th>\n",
       "      <td>EMEA</td>\n",
       "      <td>22</td>\n",
       "      <td>6320.8040</td>\n",
       "      <td>-1887.0031</td>\n",
       "    </tr>\n",
       "  </tbody>\n",
       "</table>\n",
       "</div>"
      ],
      "text/plain": [
       "  Region  Quantity      Sales     Profit\n",
       "0   AMER        23  8927.0000  -874.2409\n",
       "1    APJ        13  2926.2716  -519.7630\n",
       "2   EMEA        22  6320.8040 -1887.0031"
      ]
     },
     "execution_count": 137,
     "metadata": {},
     "output_type": "execute_result"
    }
   ],
   "source": [
    "january_profit_2021 = df[(df['Month'] == 1) & (df['Year'] == 2021)]\n",
    "january_profit_2021.groupby('Region').agg({'Quantity':'count','Sales': 'sum', 'Profit': 'sum'}).reset_index()"
   ]
  },
  {
   "cell_type": "code",
   "execution_count": 154,
   "metadata": {},
   "outputs": [
    {
     "data": {
      "text/html": [
       "<div>\n",
       "<style scoped>\n",
       "    .dataframe tbody tr th:only-of-type {\n",
       "        vertical-align: middle;\n",
       "    }\n",
       "\n",
       "    .dataframe tbody tr th {\n",
       "        vertical-align: top;\n",
       "    }\n",
       "\n",
       "    .dataframe thead th {\n",
       "        text-align: right;\n",
       "    }\n",
       "</style>\n",
       "<table border=\"1\" class=\"dataframe\">\n",
       "  <thead>\n",
       "    <tr style=\"text-align: right;\">\n",
       "      <th></th>\n",
       "      <th>Product</th>\n",
       "      <th>Customer</th>\n",
       "      <th>Industry</th>\n",
       "      <th>Region</th>\n",
       "      <th>Country</th>\n",
       "      <th>Sales</th>\n",
       "      <th>Profit</th>\n",
       "      <th>Quantity</th>\n",
       "      <th>Cost Price</th>\n",
       "      <th>Discount</th>\n",
       "      <th>Selling Price</th>\n",
       "    </tr>\n",
       "  </thead>\n",
       "  <tbody>\n",
       "    <tr>\n",
       "      <th>9639</th>\n",
       "      <td>ContactMatcher</td>\n",
       "      <td>Morgan Stanley</td>\n",
       "      <td>Finance</td>\n",
       "      <td>EMEA</td>\n",
       "      <td>Sweden</td>\n",
       "      <td>4297.6440</td>\n",
       "      <td>-1862.3124</td>\n",
       "      <td>13</td>\n",
       "      <td>789.738000</td>\n",
       "      <td>0.40</td>\n",
       "      <td>550.98</td>\n",
       "    </tr>\n",
       "    <tr>\n",
       "      <th>215</th>\n",
       "      <td>Big Ol Database</td>\n",
       "      <td>Tyson Foods</td>\n",
       "      <td>Consumer Products</td>\n",
       "      <td>AMER</td>\n",
       "      <td>Mexico</td>\n",
       "      <td>1188.0000</td>\n",
       "      <td>-950.4000</td>\n",
       "      <td>9</td>\n",
       "      <td>792.000000</td>\n",
       "      <td>0.70</td>\n",
       "      <td>440.00</td>\n",
       "    </tr>\n",
       "    <tr>\n",
       "      <th>5055</th>\n",
       "      <td>Marketing Suite</td>\n",
       "      <td>Nissan Motor</td>\n",
       "      <td>Transportation</td>\n",
       "      <td>APJ</td>\n",
       "      <td>Japan</td>\n",
       "      <td>1352.3976</td>\n",
       "      <td>-437.5404</td>\n",
       "      <td>9</td>\n",
       "      <td>292.473529</td>\n",
       "      <td>0.32</td>\n",
       "      <td>220.98</td>\n",
       "    </tr>\n",
       "  </tbody>\n",
       "</table>\n",
       "</div>"
      ],
      "text/plain": [
       "              Product        Customer           Industry Region Country  \\\n",
       "9639   ContactMatcher  Morgan Stanley            Finance   EMEA  Sweden   \n",
       "215   Big Ol Database     Tyson Foods  Consumer Products   AMER  Mexico   \n",
       "5055  Marketing Suite    Nissan Motor     Transportation    APJ   Japan   \n",
       "\n",
       "          Sales     Profit  Quantity  Cost Price  Discount  Selling Price  \n",
       "9639  4297.6440 -1862.3124        13  789.738000      0.40         550.98  \n",
       "215   1188.0000  -950.4000         9  792.000000      0.70         440.00  \n",
       "5055  1352.3976  -437.5404         9  292.473529      0.32         220.98  "
      ]
     },
     "execution_count": 154,
     "metadata": {},
     "output_type": "execute_result"
    }
   ],
   "source": [
    "january_profit_2021_negative = january_profit_2021[january_profit_2021['Profit'] < 0]\n",
    "january_profit_2021_negative = january_profit_2021_negative[['Product','Customer','Industry','Region', 'Country', 'Sales', 'Profit','Quantity', 'Cost Price', 'Discount','Selling Price']]\n",
    "january_profit_2021_negative.sort_values(by='Profit').head(3)"
   ]
  },
  {
   "cell_type": "markdown",
   "metadata": {},
   "source": [
    "We can focus on the top 3 of the transaction which giving the lowest profit. For ContactMatcher and Marketing Suite we can give limit quantity requirements to get discount. If they have transaction with more than 5, we can only give 20% discount. If we emphasize to ContactMatcher with the previous analysis, there were a connected reason why our profit get a low profit with them so we can focus to the all transactions with selling ContactMatcher.\n",
    "\n",
    "For the second one, Big Ol Database we give too much discount for the transaction. Beside we give the limit of transaction we can lower the discount until 40%, so just give them around 30% discount."
   ]
  },
  {
   "cell_type": "markdown",
   "metadata": {},
   "source": [
    "### HIGHEST PROFIT IN 4 YEARS"
   ]
  },
  {
   "cell_type": "markdown",
   "metadata": {},
   "source": [
    "#### The moment of increase leading to the peak profit over the span of 4 years."
   ]
  },
  {
   "cell_type": "markdown",
   "metadata": {},
   "source": [
    "**November 2022**"
   ]
  },
  {
   "cell_type": "code",
   "execution_count": 140,
   "metadata": {},
   "outputs": [
    {
     "data": {
      "text/html": [
       "<div>\n",
       "<style scoped>\n",
       "    .dataframe tbody tr th:only-of-type {\n",
       "        vertical-align: middle;\n",
       "    }\n",
       "\n",
       "    .dataframe tbody tr th {\n",
       "        vertical-align: top;\n",
       "    }\n",
       "\n",
       "    .dataframe thead th {\n",
       "        text-align: right;\n",
       "    }\n",
       "</style>\n",
       "<table border=\"1\" class=\"dataframe\">\n",
       "  <thead>\n",
       "    <tr style=\"text-align: right;\">\n",
       "      <th></th>\n",
       "      <th>Region</th>\n",
       "      <th>Quantity</th>\n",
       "      <th>Sales</th>\n",
       "      <th>Profit</th>\n",
       "    </tr>\n",
       "  </thead>\n",
       "  <tbody>\n",
       "    <tr>\n",
       "      <th>0</th>\n",
       "      <td>AMER</td>\n",
       "      <td>146</td>\n",
       "      <td>37341.6630</td>\n",
       "      <td>-1115.0976</td>\n",
       "    </tr>\n",
       "    <tr>\n",
       "      <th>1</th>\n",
       "      <td>APJ</td>\n",
       "      <td>90</td>\n",
       "      <td>14023.8608</td>\n",
       "      <td>908.8195</td>\n",
       "    </tr>\n",
       "    <tr>\n",
       "      <th>2</th>\n",
       "      <td>EMEA</td>\n",
       "      <td>137</td>\n",
       "      <td>30826.7990</td>\n",
       "      <td>4582.3475</td>\n",
       "    </tr>\n",
       "  </tbody>\n",
       "</table>\n",
       "</div>"
      ],
      "text/plain": [
       "  Region  Quantity       Sales     Profit\n",
       "0   AMER       146  37341.6630 -1115.0976\n",
       "1    APJ        90  14023.8608   908.8195\n",
       "2   EMEA       137  30826.7990  4582.3475"
      ]
     },
     "execution_count": 140,
     "metadata": {},
     "output_type": "execute_result"
    }
   ],
   "source": [
    "november_profit_2022 = df[(df['Month'] == 11) & (df['Year'] == 2022)]\n",
    "november_profit_2022.groupby('Region').agg({'Quantity':'count','Sales': 'sum', 'Profit': 'sum'}).reset_index()"
   ]
  },
  {
   "cell_type": "code",
   "execution_count": 155,
   "metadata": {},
   "outputs": [
    {
     "data": {
      "text/html": [
       "<div>\n",
       "<style scoped>\n",
       "    .dataframe tbody tr th:only-of-type {\n",
       "        vertical-align: middle;\n",
       "    }\n",
       "\n",
       "    .dataframe tbody tr th {\n",
       "        vertical-align: top;\n",
       "    }\n",
       "\n",
       "    .dataframe thead th {\n",
       "        text-align: right;\n",
       "    }\n",
       "</style>\n",
       "<table border=\"1\" class=\"dataframe\">\n",
       "  <thead>\n",
       "    <tr style=\"text-align: right;\">\n",
       "      <th></th>\n",
       "      <th>Product</th>\n",
       "      <th>Customer</th>\n",
       "      <th>Industry</th>\n",
       "      <th>Region</th>\n",
       "      <th>Country</th>\n",
       "      <th>Sales</th>\n",
       "      <th>Profit</th>\n",
       "      <th>Quantity</th>\n",
       "      <th>Cost Price</th>\n",
       "      <th>Discount</th>\n",
       "      <th>Selling Price</th>\n",
       "    </tr>\n",
       "  </thead>\n",
       "  <tbody>\n",
       "    <tr>\n",
       "      <th>7772</th>\n",
       "      <td>Big Ol Database</td>\n",
       "      <td>Allstate</td>\n",
       "      <td>Finance</td>\n",
       "      <td>AMER</td>\n",
       "      <td>Mexico</td>\n",
       "      <td>4499.985</td>\n",
       "      <td>-6599.978</td>\n",
       "      <td>5</td>\n",
       "      <td>7399.975333</td>\n",
       "      <td>0.7</td>\n",
       "      <td>2999.99</td>\n",
       "    </tr>\n",
       "    <tr>\n",
       "      <th>7771</th>\n",
       "      <td>ContactMatcher</td>\n",
       "      <td>Allstate</td>\n",
       "      <td>Finance</td>\n",
       "      <td>AMER</td>\n",
       "      <td>Mexico</td>\n",
       "      <td>456.588</td>\n",
       "      <td>-304.392</td>\n",
       "      <td>2</td>\n",
       "      <td>1268.300000</td>\n",
       "      <td>0.7</td>\n",
       "      <td>760.98</td>\n",
       "    </tr>\n",
       "    <tr>\n",
       "      <th>7878</th>\n",
       "      <td>SaaS Connector Pack</td>\n",
       "      <td>Glencore</td>\n",
       "      <td>Misc</td>\n",
       "      <td>APJ</td>\n",
       "      <td>Australia</td>\n",
       "      <td>242.176</td>\n",
       "      <td>-302.720</td>\n",
       "      <td>4</td>\n",
       "      <td>340.560000</td>\n",
       "      <td>0.6</td>\n",
       "      <td>151.36</td>\n",
       "    </tr>\n",
       "  </tbody>\n",
       "</table>\n",
       "</div>"
      ],
      "text/plain": [
       "                  Product  Customer Industry Region    Country     Sales  \\\n",
       "7772      Big Ol Database  Allstate  Finance   AMER     Mexico  4499.985   \n",
       "7771       ContactMatcher  Allstate  Finance   AMER     Mexico   456.588   \n",
       "7878  SaaS Connector Pack  Glencore     Misc    APJ  Australia   242.176   \n",
       "\n",
       "        Profit  Quantity   Cost Price  Discount  Selling Price  \n",
       "7772 -6599.978         5  7399.975333       0.7        2999.99  \n",
       "7771  -304.392         2  1268.300000       0.7         760.98  \n",
       "7878  -302.720         4   340.560000       0.6         151.36  "
      ]
     },
     "execution_count": 155,
     "metadata": {},
     "output_type": "execute_result"
    }
   ],
   "source": [
    "november_profit_2022_negative = november_profit_2022[november_profit_2022['Profit'] < 0]\n",
    "november_profit_2022_negative = november_profit_2022_negative[['Product','Customer','Industry','Region', 'Country', 'Sales', 'Profit','Quantity', 'Cost Price', 'Discount','Selling Price']]\n",
    "november_profit_2022_negative.sort_values(by='Profit').head(3)"
   ]
  },
  {
   "cell_type": "markdown",
   "metadata": {},
   "source": [
    "Although this is the moment that we have the highest profit, we can give these 3 transaction to lower discount, because i think the discount can be reduce to get higher profit. If we connect this analysis to the previous analyse, we can see there were 2 transactions with customer named Allstate. We can more focus to break down all transaction with Allstate to watch the discount we give and reduce it step by step."
   ]
  },
  {
   "cell_type": "markdown",
   "metadata": {},
   "source": [
    "It is indeed quite challenging to discern patterns when looking at the lowest and highest profits each year. However, upon initial observation, ContactMatcher appears several times as the highest contributor to negative profits. When linked with the previous analysis, ContactMatcher does indeed experience the lowest profits, particularly in the APJ region. \n",
    "### Upgrading or Adding Feature for ContactMatcher\n",
    "It seems more emphasized to revisit the needs of users or the local community who could potentially utilize a region-specific ContactMatcher for APJ. The findings from this needs assessment can serve as a reference for enhancing the service by adding features that cater to those needs. Following the improvements, marketing efforts could commence, starting with a one-month free trial period. Afterward, the user interest level regarding the new feature-equipped service should be reassessed. If successful, we could enhance the marketing strategy by offering discounted monthly subscription rates and special prices for annual subscriptions"
   ]
  },
  {
   "cell_type": "markdown",
   "metadata": {},
   "source": [
    "# Conclusion and Recommendation\n",
    "From the conducted analysis, we can draw conclusions about the most popular products and those yielding the highest profits:\n",
    "\n",
    "- ContactMatcher had up to 1842 transactions with a median profit of $28.79.\n",
    "- Alchemy was sold 86 times with a median profit of $1099.98.\n",
    "- The top 3 customers generating the most negative profits were Bosch, Ford Motor, and Itochu.\n",
    "- The top 3 customers with the highest number of transactions resulting in negative profits were Morgan Stanley, Bosch, and Itochu.\n",
    "- The region with the highest frequency of negative profit transactions was APJ, amounting to -$21583.6618.\n",
    "- The most frequent purchasers of Alchemy were Coca-Cola India, followed by Mondelez International in Canada, and Lowes in the Philippines, ranking as the top 3.\n",
    "- Discounts applied to ContactMatcher sales included 80% for 233 transactions, 50% for 18 transactions, and 30% for 44 transactions.\n",
    "- The most frequent Alchemy purchasers with the lowest profits were located in the APJ region, totaling $17819.8729.\n",
    "- The lowest profit was associated with Allstate at -$2796.2935, while the highest was recorded for Valero Energy at $10308.6297.\n",
    "- For customer Allstate, the quantity of ContactMatcher purchases was 411 with a frequency of 10 transactions specifically for the ContactMatcher product.\n",
    "- The lowest decrease occurred in January 2021, while the highest was recorded in November 2022\n",
    "\n",
    "Characteristics of ContactMatcher and Alchemy:\n",
    "\n",
    "- ContactMatcher achieved the highest sales, but also had the highest incidence of negative profits, ranking second-lowest overall.\n",
    "- Alchemy had the lowest sales but yielded the highest profits, never experiencing negative profit outcomes.\n",
    "- A notable number of discounts were provided for the ContactMatcher product in the APJ region.\n",
    "- The largest purchaser of Alchemy was Coca-Cola and the smallest was Daimler\n",
    "- Alchemy's lowest sales occurred in the APJ region.\n",
    "- The customer with the lowest profit was Allstate, whereas the highest was Valero Energy.\n",
    "- Allstate demonstrated loyalty as a customer but contributed the lowest profit through ContactMatcher purchases\n",
    "- ContactMatcher plays a significant role when observing the decline in profit that reaches its lowest point over a span of 4 years, as evidenced by the data\n",
    "\n",
    "Characteristic Time of Profit\n",
    "- When examining the sales trend, we notice a decline in sales at the turn of the year followed by an increase towards the end of the year. This pattern offers insights into potential causes, with ContactMatcher's role in the lowest sales contributing to the profit decline.\n",
    "\n",
    "- Upon dissecting the data per year, we observe that in even years, low profits occur in Q1 and rise in Q3, while the opposite holds true for odd years. Notably, in 2021, there was also an increase in Q3."
   ]
  },
  {
   "cell_type": "markdown",
   "metadata": {},
   "source": [
    "# Recommendation\n",
    "- Reducing Discounts for ContactMatcher Sales, Especially for Customers with High Transaction History\n",
    "- The main focus is to enhance ContactMatcher features to cater to specific needs, particularly in the APJ region, with a cost-effective approach. Offer product trials to users and subsequently raise the price. Provide a discount for monthly subscriptions and a larger discount for annual subscriptions.\n",
    "- Enhance marketing efforts in the APJ region, considering that the ContactMatcher, Alchemy, and overall product profitability is predominantly observed in this region\n",
    "- It's important to focus on these time periods to identify factors contributing to profit fluctuations, including decreases and spikes. By analyzing the sales strategy, product offerings, promotional activities, and targeted regions of the periods with increasing or decreasing profits, we can derive valuable insights to enhance sales strategies\n",
    "\n",
    "By reducing discounts, we can potentially boost profits and allocate funds towards enhancing features. This could also serve as an opportunity to gradually raise prices while appearing to offer discounts. The hope is that this approach will enable well-performing products to generate profits post-marketing. Additionally, introducing new features will contribute to greater product recognition and reach."
   ]
  },
  {
   "cell_type": "code",
   "execution_count": 76,
   "metadata": {},
   "outputs": [],
   "source": [
    "df.to_csv('aws_clean.csv', index=False)"
   ]
  }
 ],
 "metadata": {
  "kernelspec": {
   "display_name": "Python 3",
   "language": "python",
   "name": "python3"
  },
  "language_info": {
   "codemirror_mode": {
    "name": "ipython",
    "version": 3
   },
   "file_extension": ".py",
   "mimetype": "text/x-python",
   "name": "python",
   "nbconvert_exporter": "python",
   "pygments_lexer": "ipython3",
   "version": "3.11.4"
  },
  "orig_nbformat": 4
 },
 "nbformat": 4,
 "nbformat_minor": 2
}
